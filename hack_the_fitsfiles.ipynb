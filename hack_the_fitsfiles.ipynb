{
 "cells": [
  {
   "cell_type": "markdown",
   "metadata": {},
   "source": [
    "3/5/2022: We ran 1x1 cadences and 174x8 would take forever. Let's hack the fits files to make them appear to be a 174x8. \n",
    "\n",
    "To do:\n",
    "-  change NEXP in header (implemented, imp)\n",
    "-  change FCADENCE in header (imp)\n",
    "-  change DESMODE in header (imp)\n",
    "- CHANGE TO REPEAT DESMODE AND SKIES AND STANDARDS LIKE EXAMPLE (1392 TIMES) (imp)\n",
    "- **change cadence data column to dark_174x8**\n",
    "-  **check structure of a 174x8**\n",
    "- **change hdu 2 data to match structure (I think hdu1 is fine now?)**"
   ]
  },
  {
   "cell_type": "code",
   "execution_count": 1,
   "metadata": {},
   "outputs": [
    {
     "name": "stdout",
     "output_type": "stream",
     "text": [
      "['COSMOS_surveyMAX.fits', 'RM_surveyMAX.fits', 'XMMLSS_surveyMAX.fits']\n"
     ]
    }
   ],
   "source": [
    "#I need the header to look at NEXP\n",
    "from astropy.io import fits\n",
    "import glob\n",
    "import numpy as np\n",
    "from astropy.table import Table\n",
    "\n",
    "\n",
    "example = \"RM_survey2.fits\" #a 174x8\n",
    "survey_files = glob.glob('*MAX.fits')\n",
    "print(survey_files)\n",
    "epoch = 174\n",
    "exposures = 1392"
   ]
  },
  {
   "cell_type": "code",
   "execution_count": 2,
   "metadata": {},
   "outputs": [
    {
     "name": "stdout",
     "output_type": "stream",
     "text": [
      "COSMOS_surveyMAX.fits\n",
      "150.01675\n",
      "2.18325\n",
      "RM_surveyMAX.fits\n",
      "213.7041666\n",
      "53.075\n",
      "XMMLSS_surveyMAX.fits\n",
      "35.77533\n",
      "-5.0165\n"
     ]
    }
   ],
   "source": [
    "for i in survey_files:\n",
    "    print(i)\n",
    "    head = fits.open(i)[0].header\n",
    "    print(head['RACEN'])\n",
    "    print(head['DECCEN'])"
   ]
  },
  {
   "cell_type": "markdown",
   "metadata": {},
   "source": [
    "## Edit Header, Save"
   ]
  },
  {
   "cell_type": "code",
   "execution_count": 3,
   "metadata": {},
   "outputs": [],
   "source": [
    "# #Open the example #NECESSARY, DO NOT DELETE\n",
    "examp = fits.open(example)"
   ]
  },
  {
   "cell_type": "code",
   "execution_count": null,
   "metadata": {},
   "outputs": [],
   "source": [
    "# #THIS ASSUMES THAT ALL OF THEM HAD 50 SKIES and 70 STANDARDS!!!!!!\n",
    "# #CHECK THAT OR ELSE YOU COULD DESTROY SDSS MEG\n",
    "\n",
    "# for i in range(len(survey_files)):\n",
    "#     surv_file = fits.open(survey_files[i])\n",
    "\n",
    "#     surv_file[0].header['DESMODE'] = examp[0].header['DESMODE']\n",
    "#     surv_file[0].header['ACNUM0'] = examp[0].header['ACNUM0']\n",
    "#     surv_file[0].header['ACNUM1'] = examp[0].header['ACNUM1']\n",
    "#     surv_file[0].header['ACNUM2'] = examp[0].header['ACNUM2']\n",
    "#     surv_file[0].header['ACNUM3'] = examp[0].header['ACNUM3']\n",
    "#     surv_file[0].header['FCADENCE'] = 'dark_174x8'\n",
    "#     surv_file[0].header['NEXP'] = 1392\n",
    "#     print(surv_file[0].header)\n",
    "#     #surv_file.writeto('{}_surveyMAXHACKED.fits'.format(survey_files[i].split(\"_\")[0]))"
   ]
  },
  {
   "cell_type": "code",
   "execution_count": null,
   "metadata": {},
   "outputs": [],
   "source": [
    "# data1 = Table.read(survey_filesHACKED[i], format='fits')\n",
    "# data1."
   ]
  },
  {
   "cell_type": "code",
   "execution_count": 36,
   "metadata": {},
   "outputs": [
    {
     "name": "stdout",
     "output_type": "stream",
     "text": [
      "COSMOS_surveyMAX.fits\n",
      "150.01675\n",
      "2.18325\n",
      "SAVING HACKED FILE.\n",
      "RM_surveyMAX.fits\n",
      "213.7041666\n",
      "53.075\n",
      "SAVING HACKED FILE.\n",
      "XMMLSS_surveyMAX.fits\n",
      "35.77533\n",
      "-5.0165\n",
      "SAVING HACKED FILE.\n"
     ]
    }
   ],
   "source": [
    "#columns to change\n",
    "#key= col name\n",
    "#item = shape (#,)\n",
    "\n",
    "#THIS ASSUMES THAT ALL OF THEM HAD 50 SKIES and 70 STANDARDS!!!!!!\n",
    "#CHECK THAT OR ELSE YOU COULD DESTROY SDSS MEG\n",
    "\n",
    "change_cols = {'allowed': epoch, 'mags_allowed': epoch,'bright_allowed': epoch, \n",
    "           \"robotID\":exposures, \"holeID\":exposures,'equivRobotID':exposures, \n",
    "           'target_skybrightness':exposures, 'field_skybrightness':exposures, \n",
    "           'scienceRobotID':exposures}\n",
    "\n",
    "for i in survey_files:\n",
    "    print(i)\n",
    "    surv_file = fits.open(i)\n",
    "    print(surv_file[0].header['RACEN'])\n",
    "    print(surv_file[0].header['DECCEN'])\n",
    "    surv_file[0].header['DESMODE'] = examp[0].header['DESMODE']\n",
    "    surv_file[0].header['ACNUM0'] = examp[0].header['ACNUM0']\n",
    "    surv_file[0].header['ACNUM1'] = examp[0].header['ACNUM1']\n",
    "    surv_file[0].header['ACNUM2'] = examp[0].header['ACNUM2']\n",
    "    surv_file[0].header['ACNUM3'] = examp[0].header['ACNUM3']\n",
    "    surv_file[0].header['FCADENCE'] = 'dark_174x8'\n",
    "    surv_file[0].header['NEXP'] = 1392\n",
    "    \n",
    "    \n",
    "    data1 = Table.read(i, hdu=1, format='fits')\n",
    "    data2 = Table.read(i, hdu=2, format='fits')\n",
    "\n",
    "    data1['tag'] = np.full(len(data1['catalogid']), '0.3.5') #same regardless of field\n",
    "    data1['plan'] = np.full(len(data1['catalogid']), '0.5.4') #same\n",
    "    data1['cadence'] = np.full(len(data1['catalogid']), 'dark_174x8') #same\n",
    "\n",
    "    #mapper stuff only correlates to the science targets\n",
    "    data1['mapper'] = np.full(len(data1['catalogid']), \"   \") #same\n",
    "    data1['mapper'][data1['category'] == 'science'] = 'BHM'\n",
    "\n",
    "    data2['nexps'][data2['nexps'] == 1] = exposures\n",
    "    data2['nepochs'][data2['nepochs'] == 1] = epoch\n",
    "    \n",
    "    for key in change_cols.keys():\n",
    "        new_column = []\n",
    "        for j in range(len(data2[key])):\n",
    "            new_entry = np.full(change_cols[key], data2[key][j])\n",
    "            new_column.append(new_entry)\n",
    "        data2[key] = new_column\n",
    "    \n",
    "    hdu_list = fits.HDUList([fits.PrimaryHDU(header =surv_file[0].header),\n",
    "    fits.table_to_hdu(data1),\n",
    "    fits.table_to_hdu(data2)])\n",
    "    \n",
    "    hdu_list.writeto('{}_surveyMAXHACKED.fits'.format(i.split(\"_\")[0]), overwrite =True)\n",
    "    \n",
    "    print(\"SAVING HACKED FILE.\")\n"
   ]
  },
  {
   "cell_type": "code",
   "execution_count": 39,
   "metadata": {},
   "outputs": [
    {
     "name": "stdout",
     "output_type": "stream",
     "text": [
      "['COSMOS_surveyMAXHACKED.fits', 'XMMLSS_surveyMAXHACKED.fits', 'RM_surveyMAXHACKED.fits']\n",
      "COSMOS_surveyMAXHACKED.fits\n",
      "150.01675\n",
      "2.18325\n"
     ]
    },
    {
     "data": {
      "text/html": [
       "<i>Table length=3419</i>\n",
       "<table id=\"table140692698582128\" class=\"table-striped table-bordered table-condensed\">\n",
       "<thead><tr><th>assigned</th><th>satisfied</th><th>science_satisfied</th><th>extra</th><th>nexps</th><th>nepochs</th><th>allowed [174]</th><th>mags_allowed [174]</th><th>bright_allowed [174]</th><th>robotID [1392]</th><th>holeID [1392]</th><th>equivRobotID [1392]</th><th>scienceRobotID [1392]</th><th>target_skybrightness [1392]</th><th>field_skybrightness [1392]</th><th>fiberType</th><th>rsflags</th><th>expflag</th></tr></thead>\n",
       "<thead><tr><th>int32</th><th>int32</th><th>int32</th><th>int32</th><th>int32</th><th>int32</th><th>bool</th><th>bool</th><th>bool</th><th>int32</th><th>bytes28</th><th>int32</th><th>int32</th><th>float32</th><th>float32</th><th>bytes10</th><th>int32</th><th>int32</th></tr></thead>\n",
       "<tr><td>0</td><td>0</td><td>0</td><td>0</td><td>0</td><td>0</td><td>True .. True</td><td>True .. True</td><td>True .. True</td><td>-1 .. -1</td><td>..</td><td>-1 .. -1</td><td>-1 .. -1</td><td>-1.0 .. -1.0</td><td>0.35 .. 0.35</td><td>BOSS</td><td>0</td><td>0</td></tr>\n",
       "<tr><td>0</td><td>0</td><td>0</td><td>0</td><td>0</td><td>0</td><td>True .. True</td><td>True .. True</td><td>True .. True</td><td>-1 .. -1</td><td>..</td><td>-1 .. -1</td><td>-1 .. -1</td><td>-1.0 .. -1.0</td><td>0.35 .. 0.35</td><td>BOSS</td><td>0</td><td>0</td></tr>\n",
       "<tr><td>1</td><td>1</td><td>0</td><td>0</td><td>1392</td><td>174</td><td>True .. True</td><td>True .. True</td><td>True .. True</td><td>1317 .. 1317</td><td>R-12C9 .. R-12C9</td><td>1317 .. 1317</td><td>-1 .. -1</td><td>-1.0 .. -1.0</td><td>0.35 .. 0.35</td><td>BOSS</td><td>0</td><td>2</td></tr>\n",
       "<tr><td>0</td><td>0</td><td>0</td><td>0</td><td>0</td><td>0</td><td>True .. True</td><td>True .. True</td><td>True .. True</td><td>-1 .. -1</td><td>..</td><td>-1 .. -1</td><td>-1 .. -1</td><td>-1.0 .. -1.0</td><td>0.35 .. 0.35</td><td>BOSS</td><td>0</td><td>0</td></tr>\n",
       "<tr><td>1</td><td>1</td><td>0</td><td>0</td><td>1392</td><td>174</td><td>True .. True</td><td>True .. True</td><td>True .. True</td><td>624 .. 624</td><td>R-5C1 .. R-5C1</td><td>624 .. 624</td><td>-1 .. -1</td><td>-1.0 .. -1.0</td><td>0.35 .. 0.35</td><td>BOSS</td><td>0</td><td>2</td></tr>\n",
       "<tr><td>1</td><td>1</td><td>0</td><td>0</td><td>1392</td><td>174</td><td>True .. True</td><td>True .. True</td><td>True .. True</td><td>663 .. 663</td><td>R0C1 .. R0C1</td><td>663 .. 663</td><td>-1 .. -1</td><td>-1.0 .. -1.0</td><td>0.35 .. 0.35</td><td>BOSS</td><td>0</td><td>2</td></tr>\n",
       "<tr><td>1</td><td>1</td><td>0</td><td>0</td><td>1392</td><td>174</td><td>True .. True</td><td>True .. True</td><td>True .. True</td><td>550 .. 550</td><td>R+1C1 .. R+1C1</td><td>550 .. 550</td><td>-1 .. -1</td><td>-1.0 .. -1.0</td><td>0.35 .. 0.35</td><td>BOSS</td><td>0</td><td>2</td></tr>\n",
       "<tr><td>1</td><td>1</td><td>0</td><td>0</td><td>1392</td><td>174</td><td>True .. True</td><td>True .. True</td><td>True .. True</td><td>1381 .. 1381</td><td>R-7C10 .. R-7C10</td><td>1381 .. 1381</td><td>-1 .. -1</td><td>-1.0 .. -1.0</td><td>0.35 .. 0.35</td><td>BOSS</td><td>0</td><td>2</td></tr>\n",
       "<tr><td>1</td><td>1</td><td>0</td><td>0</td><td>1392</td><td>174</td><td>True .. True</td><td>True .. True</td><td>True .. True</td><td>1054 .. 1054</td><td>R-2C7 .. R-2C7</td><td>1054 .. 1054</td><td>-1 .. -1</td><td>-1.0 .. -1.0</td><td>0.35 .. 0.35</td><td>BOSS</td><td>0</td><td>2</td></tr>\n",
       "<tr><td>0</td><td>0</td><td>0</td><td>0</td><td>0</td><td>0</td><td>True .. True</td><td>True .. True</td><td>True .. True</td><td>-1 .. -1</td><td>..</td><td>-1 .. -1</td><td>-1 .. -1</td><td>-1.0 .. -1.0</td><td>0.35 .. 0.35</td><td>BOSS</td><td>0</td><td>0</td></tr>\n",
       "<tr><td>...</td><td>...</td><td>...</td><td>...</td><td>...</td><td>...</td><td>...</td><td>...</td><td>...</td><td>...</td><td>...</td><td>...</td><td>...</td><td>...</td><td>...</td><td>...</td><td>...</td><td>...</td></tr>\n",
       "<tr><td>0</td><td>0</td><td>0</td><td>0</td><td>0</td><td>0</td><td>True .. True</td><td>True .. True</td><td>True .. True</td><td>-1 .. -1</td><td>..</td><td>-1 .. -1</td><td>-1 .. -1</td><td>-1.0 .. -1.0</td><td>0.35 .. 0.35</td><td>BOSS</td><td>0</td><td>0</td></tr>\n",
       "<tr><td>0</td><td>0</td><td>0</td><td>0</td><td>0</td><td>0</td><td>True .. True</td><td>True .. True</td><td>True .. True</td><td>-1 .. -1</td><td>..</td><td>-1 .. -1</td><td>-1 .. -1</td><td>-1.0 .. -1.0</td><td>0.35 .. 0.35</td><td>BOSS</td><td>0</td><td>0</td></tr>\n",
       "<tr><td>0</td><td>0</td><td>0</td><td>0</td><td>0</td><td>0</td><td>True .. True</td><td>True .. True</td><td>True .. True</td><td>-1 .. -1</td><td>..</td><td>-1 .. -1</td><td>-1 .. -1</td><td>-1.0 .. -1.0</td><td>0.35 .. 0.35</td><td>BOSS</td><td>0</td><td>0</td></tr>\n",
       "<tr><td>0</td><td>0</td><td>0</td><td>0</td><td>0</td><td>0</td><td>True .. True</td><td>True .. True</td><td>True .. True</td><td>-1 .. -1</td><td>..</td><td>-1 .. -1</td><td>-1 .. -1</td><td>-1.0 .. -1.0</td><td>0.35 .. 0.35</td><td>BOSS</td><td>0</td><td>0</td></tr>\n",
       "<tr><td>0</td><td>0</td><td>0</td><td>0</td><td>0</td><td>0</td><td>True .. True</td><td>True .. True</td><td>True .. True</td><td>-1 .. -1</td><td>..</td><td>-1 .. -1</td><td>-1 .. -1</td><td>-1.0 .. -1.0</td><td>0.35 .. 0.35</td><td>BOSS</td><td>0</td><td>0</td></tr>\n",
       "<tr><td>0</td><td>0</td><td>0</td><td>0</td><td>0</td><td>0</td><td>True .. True</td><td>True .. True</td><td>True .. True</td><td>-1 .. -1</td><td>..</td><td>-1 .. -1</td><td>-1 .. -1</td><td>-1.0 .. -1.0</td><td>0.35 .. 0.35</td><td>BOSS</td><td>0</td><td>0</td></tr>\n",
       "<tr><td>0</td><td>0</td><td>0</td><td>0</td><td>0</td><td>0</td><td>True .. True</td><td>True .. True</td><td>True .. True</td><td>-1 .. -1</td><td>..</td><td>-1 .. -1</td><td>-1 .. -1</td><td>-1.0 .. -1.0</td><td>0.35 .. 0.35</td><td>BOSS</td><td>0</td><td>0</td></tr>\n",
       "<tr><td>0</td><td>0</td><td>0</td><td>0</td><td>0</td><td>0</td><td>True .. True</td><td>True .. True</td><td>True .. True</td><td>-1 .. -1</td><td>..</td><td>-1 .. -1</td><td>-1 .. -1</td><td>-1.0 .. -1.0</td><td>0.35 .. 0.35</td><td>BOSS</td><td>0</td><td>0</td></tr>\n",
       "<tr><td>0</td><td>0</td><td>0</td><td>0</td><td>0</td><td>0</td><td>True .. True</td><td>True .. True</td><td>True .. True</td><td>-1 .. -1</td><td>..</td><td>-1 .. -1</td><td>-1 .. -1</td><td>-1.0 .. -1.0</td><td>0.35 .. 0.35</td><td>BOSS</td><td>0</td><td>0</td></tr>\n",
       "<tr><td>0</td><td>0</td><td>0</td><td>0</td><td>0</td><td>0</td><td>True .. True</td><td>True .. True</td><td>True .. True</td><td>-1 .. -1</td><td>..</td><td>-1 .. -1</td><td>-1 .. -1</td><td>-1.0 .. -1.0</td><td>0.35 .. 0.35</td><td>BOSS</td><td>0</td><td>0</td></tr>\n",
       "</table>"
      ],
      "text/plain": [
       "<Table length=3419>\n",
       "assigned satisfied science_satisfied extra ... fiberType rsflags expflag\n",
       " int32     int32         int32       int32 ...  bytes10   int32   int32 \n",
       "-------- --------- ----------------- ----- ... --------- ------- -------\n",
       "       0         0                 0     0 ...      BOSS       0       0\n",
       "       0         0                 0     0 ...      BOSS       0       0\n",
       "       1         1                 0     0 ...      BOSS       0       2\n",
       "       0         0                 0     0 ...      BOSS       0       0\n",
       "       1         1                 0     0 ...      BOSS       0       2\n",
       "       1         1                 0     0 ...      BOSS       0       2\n",
       "       1         1                 0     0 ...      BOSS       0       2\n",
       "       1         1                 0     0 ...      BOSS       0       2\n",
       "       1         1                 0     0 ...      BOSS       0       2\n",
       "       0         0                 0     0 ...      BOSS       0       0\n",
       "     ...       ...               ...   ... ...       ...     ...     ...\n",
       "       0         0                 0     0 ...      BOSS       0       0\n",
       "       0         0                 0     0 ...      BOSS       0       0\n",
       "       0         0                 0     0 ...      BOSS       0       0\n",
       "       0         0                 0     0 ...      BOSS       0       0\n",
       "       0         0                 0     0 ...      BOSS       0       0\n",
       "       0         0                 0     0 ...      BOSS       0       0\n",
       "       0         0                 0     0 ...      BOSS       0       0\n",
       "       0         0                 0     0 ...      BOSS       0       0\n",
       "       0         0                 0     0 ...      BOSS       0       0\n",
       "       0         0                 0     0 ...      BOSS       0       0"
      ]
     },
     "execution_count": 39,
     "metadata": {},
     "output_type": "execute_result"
    }
   ],
   "source": [
    "survey_filesHACKED = glob.glob('*MAXHACKED.fits')\n",
    "print(survey_filesHACKED)\n",
    "i = 0\n",
    "print(survey_filesHACKED[i])\n",
    "head = fits.open(survey_filesHACKED[i])[0].header\n",
    "data1 = Table.read(survey_filesHACKED[i], hdu=1, format='fits')\n",
    "data2 = Table.read(survey_filesHACKED[i], hdu=2, format='fits')\n",
    "print(head['RACEN'])\n",
    "print(head['DECCEN'])\n",
    "data2"
   ]
  },
  {
   "cell_type": "code",
   "execution_count": 17,
   "metadata": {},
   "outputs": [],
   "source": [
    "\n",
    "# hdu_list = fits.HDUList([\n",
    "#     fits.PrimaryHDU(header =fits.open(survey_filesHACKED[i])[0].header),\n",
    "#     fits.table_to_hdu(data1),\n",
    "#     fits.table_to_hdu(data2), \n",
    "# ])\n",
    "# hdu_list.writeto('tables.fits', overwrite = True)"
   ]
  },
  {
   "cell_type": "code",
   "execution_count": 21,
   "metadata": {},
   "outputs": [
    {
     "data": {
      "text/html": [
       "<i>Table length=3419</i>\n",
       "<table id=\"table140693747140352\" class=\"table-striped table-bordered table-condensed\">\n",
       "<thead><tr><th>assigned</th><th>satisfied</th><th>science_satisfied</th><th>extra</th><th>nexps</th><th>nepochs</th><th>allowed</th><th>mags_allowed</th><th>bright_allowed</th><th>robotID</th><th>holeID</th><th>equivRobotID</th><th>scienceRobotID</th><th>target_skybrightness</th><th>field_skybrightness</th><th>fiberType</th><th>rsflags</th><th>expflag</th></tr></thead>\n",
       "<thead><tr><th>int32</th><th>int32</th><th>int32</th><th>int32</th><th>int32</th><th>int32</th><th>bool</th><th>bool</th><th>bool</th><th>int32</th><th>bytes15</th><th>int32</th><th>int32</th><th>float32</th><th>float32</th><th>bytes10</th><th>int32</th><th>int32</th></tr></thead>\n",
       "<tr><td>0</td><td>0</td><td>0</td><td>0</td><td>0</td><td>0</td><td>True</td><td>True</td><td>True</td><td>-1</td><td></td><td>-1</td><td>-1</td><td>-1.0</td><td>0.35</td><td>BOSS</td><td>0</td><td>0</td></tr>\n",
       "<tr><td>0</td><td>0</td><td>0</td><td>0</td><td>0</td><td>0</td><td>True</td><td>True</td><td>True</td><td>-1</td><td></td><td>-1</td><td>-1</td><td>-1.0</td><td>0.35</td><td>BOSS</td><td>0</td><td>0</td></tr>\n",
       "<tr><td>1</td><td>1</td><td>0</td><td>0</td><td>1392</td><td>174</td><td>True</td><td>True</td><td>True</td><td>1317</td><td>R-12C9</td><td>1317</td><td>-1</td><td>-1.0</td><td>0.35</td><td>BOSS</td><td>0</td><td>2</td></tr>\n",
       "<tr><td>0</td><td>0</td><td>0</td><td>0</td><td>0</td><td>0</td><td>True</td><td>True</td><td>True</td><td>-1</td><td></td><td>-1</td><td>-1</td><td>-1.0</td><td>0.35</td><td>BOSS</td><td>0</td><td>0</td></tr>\n",
       "<tr><td>1</td><td>1</td><td>0</td><td>0</td><td>1392</td><td>174</td><td>True</td><td>True</td><td>True</td><td>624</td><td>R-5C1</td><td>624</td><td>-1</td><td>-1.0</td><td>0.35</td><td>BOSS</td><td>0</td><td>2</td></tr>\n",
       "<tr><td>1</td><td>1</td><td>0</td><td>0</td><td>1392</td><td>174</td><td>True</td><td>True</td><td>True</td><td>663</td><td>R0C1</td><td>663</td><td>-1</td><td>-1.0</td><td>0.35</td><td>BOSS</td><td>0</td><td>2</td></tr>\n",
       "<tr><td>1</td><td>1</td><td>0</td><td>0</td><td>1392</td><td>174</td><td>True</td><td>True</td><td>True</td><td>550</td><td>R+1C1</td><td>550</td><td>-1</td><td>-1.0</td><td>0.35</td><td>BOSS</td><td>0</td><td>2</td></tr>\n",
       "<tr><td>1</td><td>1</td><td>0</td><td>0</td><td>1392</td><td>174</td><td>True</td><td>True</td><td>True</td><td>1381</td><td>R-7C10</td><td>1381</td><td>-1</td><td>-1.0</td><td>0.35</td><td>BOSS</td><td>0</td><td>2</td></tr>\n",
       "<tr><td>1</td><td>1</td><td>0</td><td>0</td><td>1392</td><td>174</td><td>True</td><td>True</td><td>True</td><td>1054</td><td>R-2C7</td><td>1054</td><td>-1</td><td>-1.0</td><td>0.35</td><td>BOSS</td><td>0</td><td>2</td></tr>\n",
       "<tr><td>0</td><td>0</td><td>0</td><td>0</td><td>0</td><td>0</td><td>True</td><td>True</td><td>True</td><td>-1</td><td></td><td>-1</td><td>-1</td><td>-1.0</td><td>0.35</td><td>BOSS</td><td>0</td><td>0</td></tr>\n",
       "<tr><td>...</td><td>...</td><td>...</td><td>...</td><td>...</td><td>...</td><td>...</td><td>...</td><td>...</td><td>...</td><td>...</td><td>...</td><td>...</td><td>...</td><td>...</td><td>...</td><td>...</td><td>...</td></tr>\n",
       "<tr><td>0</td><td>0</td><td>0</td><td>0</td><td>0</td><td>0</td><td>True</td><td>True</td><td>True</td><td>-1</td><td></td><td>-1</td><td>-1</td><td>-1.0</td><td>0.35</td><td>BOSS</td><td>0</td><td>0</td></tr>\n",
       "<tr><td>0</td><td>0</td><td>0</td><td>0</td><td>0</td><td>0</td><td>True</td><td>True</td><td>True</td><td>-1</td><td></td><td>-1</td><td>-1</td><td>-1.0</td><td>0.35</td><td>BOSS</td><td>0</td><td>0</td></tr>\n",
       "<tr><td>0</td><td>0</td><td>0</td><td>0</td><td>0</td><td>0</td><td>True</td><td>True</td><td>True</td><td>-1</td><td></td><td>-1</td><td>-1</td><td>-1.0</td><td>0.35</td><td>BOSS</td><td>0</td><td>0</td></tr>\n",
       "<tr><td>0</td><td>0</td><td>0</td><td>0</td><td>0</td><td>0</td><td>True</td><td>True</td><td>True</td><td>-1</td><td></td><td>-1</td><td>-1</td><td>-1.0</td><td>0.35</td><td>BOSS</td><td>0</td><td>0</td></tr>\n",
       "<tr><td>0</td><td>0</td><td>0</td><td>0</td><td>0</td><td>0</td><td>True</td><td>True</td><td>True</td><td>-1</td><td></td><td>-1</td><td>-1</td><td>-1.0</td><td>0.35</td><td>BOSS</td><td>0</td><td>0</td></tr>\n",
       "<tr><td>0</td><td>0</td><td>0</td><td>0</td><td>0</td><td>0</td><td>True</td><td>True</td><td>True</td><td>-1</td><td></td><td>-1</td><td>-1</td><td>-1.0</td><td>0.35</td><td>BOSS</td><td>0</td><td>0</td></tr>\n",
       "<tr><td>0</td><td>0</td><td>0</td><td>0</td><td>0</td><td>0</td><td>True</td><td>True</td><td>True</td><td>-1</td><td></td><td>-1</td><td>-1</td><td>-1.0</td><td>0.35</td><td>BOSS</td><td>0</td><td>0</td></tr>\n",
       "<tr><td>0</td><td>0</td><td>0</td><td>0</td><td>0</td><td>0</td><td>True</td><td>True</td><td>True</td><td>-1</td><td></td><td>-1</td><td>-1</td><td>-1.0</td><td>0.35</td><td>BOSS</td><td>0</td><td>0</td></tr>\n",
       "<tr><td>0</td><td>0</td><td>0</td><td>0</td><td>0</td><td>0</td><td>True</td><td>True</td><td>True</td><td>-1</td><td></td><td>-1</td><td>-1</td><td>-1.0</td><td>0.35</td><td>BOSS</td><td>0</td><td>0</td></tr>\n",
       "<tr><td>0</td><td>0</td><td>0</td><td>0</td><td>0</td><td>0</td><td>True</td><td>True</td><td>True</td><td>-1</td><td></td><td>-1</td><td>-1</td><td>-1.0</td><td>0.35</td><td>BOSS</td><td>0</td><td>0</td></tr>\n",
       "</table>"
      ],
      "text/plain": [
       "<Table length=3419>\n",
       "assigned satisfied science_satisfied extra ... fiberType rsflags expflag\n",
       " int32     int32         int32       int32 ...  bytes10   int32   int32 \n",
       "-------- --------- ----------------- ----- ... --------- ------- -------\n",
       "       0         0                 0     0 ...      BOSS       0       0\n",
       "       0         0                 0     0 ...      BOSS       0       0\n",
       "       1         1                 0     0 ...      BOSS       0       2\n",
       "       0         0                 0     0 ...      BOSS       0       0\n",
       "       1         1                 0     0 ...      BOSS       0       2\n",
       "       1         1                 0     0 ...      BOSS       0       2\n",
       "       1         1                 0     0 ...      BOSS       0       2\n",
       "       1         1                 0     0 ...      BOSS       0       2\n",
       "       1         1                 0     0 ...      BOSS       0       2\n",
       "       0         0                 0     0 ...      BOSS       0       0\n",
       "     ...       ...               ...   ... ...       ...     ...     ...\n",
       "       0         0                 0     0 ...      BOSS       0       0\n",
       "       0         0                 0     0 ...      BOSS       0       0\n",
       "       0         0                 0     0 ...      BOSS       0       0\n",
       "       0         0                 0     0 ...      BOSS       0       0\n",
       "       0         0                 0     0 ...      BOSS       0       0\n",
       "       0         0                 0     0 ...      BOSS       0       0\n",
       "       0         0                 0     0 ...      BOSS       0       0\n",
       "       0         0                 0     0 ...      BOSS       0       0\n",
       "       0         0                 0     0 ...      BOSS       0       0\n",
       "       0         0                 0     0 ...      BOSS       0       0"
      ]
     },
     "execution_count": 21,
     "metadata": {},
     "output_type": "execute_result"
    }
   ],
   "source": []
  },
  {
   "cell_type": "code",
   "execution_count": null,
   "metadata": {},
   "outputs": [],
   "source": [
    "#only issue?\n",
    "head['BITPIX'] = 16"
   ]
  },
  {
   "cell_type": "code",
   "execution_count": null,
   "metadata": {},
   "outputs": [],
   "source": [
    "surv_file = fits.open(survey_files[0])\n",
    "len(surv_file[2].data['allowed'])"
   ]
  },
  {
   "cell_type": "code",
   "execution_count": null,
   "metadata": {},
   "outputs": [],
   "source": [
    "# survey_filesHACKED = glob.glob('*MAXHACKED.fits')\n",
    "# # survey_filesHACKED\n",
    "# #columns to change\n",
    "# #key= col name\n",
    "# #item = shape (#,)\n",
    "\n",
    "# change_cols = {'allowed': epoch, 'mags_allowed': epoch,'bright_allowed': epoch, \n",
    "#                \"robotID\":exposures, \"holeID\":exposures,'equivRobotID':exposures, \n",
    "#                'target_skybrightness':exposures, 'field_skybrightness':exposures, \n",
    "#                'scienceRobotID':exposures}\n",
    "\n",
    "# for key in change_cols.keys():\n",
    "#     new_column = []\n",
    "#     for i in range(len(data2[key])):\n",
    "#         new_entry = np.full(change_cols[key], data2[key][i])\n",
    "#         new_column.append(new_entry)\n",
    "#     data2[key] = new_column"
   ]
  }
 ],
 "metadata": {
  "kernelspec": {
   "display_name": "Python 3",
   "language": "python",
   "name": "python3"
  },
  "language_info": {
   "codemirror_mode": {
    "name": "ipython",
    "version": 3
   },
   "file_extension": ".py",
   "mimetype": "text/x-python",
   "name": "python",
   "nbconvert_exporter": "python",
   "pygments_lexer": "ipython3",
   "version": "3.8.5"
  }
 },
 "nbformat": 4,
 "nbformat_minor": 4
}
