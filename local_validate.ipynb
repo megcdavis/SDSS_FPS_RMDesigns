{
 "cells": [
  {
   "cell_type": "code",
   "execution_count": 1,
   "metadata": {},
   "outputs": [
    {
     "name": "stderr",
     "output_type": "stream",
     "text": [
      "\u001b[1;33m[WARNING]: \u001b[0m\u001b[0;39mCannot find file /Users/meg/OneDrive - University of Connecticut/Meg_PhDresearch/scripts_notebooks/FPS/fps_calibrations/lco/wok_calibs/duPontBase/fiberAssignments.csv.\u001b[0m \u001b[0;36m(CoordIOUserWarning)\u001b[0m\n",
      "\u001b[1;33m[WARNING]: \u001b[0m\u001b[0;39mCannot find file /Users/meg/OneDrive - University of Connecticut/Meg_PhDresearch/scripts_notebooks/FPS/fps_calibrations/lco/wok_calibs/duPontBase/gfaCoords.csv.\u001b[0m \u001b[0;36m(CoordIOUserWarning)\u001b[0m\n",
      "\u001b[1;33m[WARNING]: \u001b[0mfailed to connect to database 'sdss5db': could not receive data from server: Operation timed out\n",
      "\n",
      "\u001b[1;33m[WARNING]: \u001b[0mfailed to connect to database 'sdss5db': could not receive data from server: Operation timed out\n",
      "\n",
      "\u001b[1;33m[WARNING]: \u001b[0mfailed to connect to database 'sdss5db': could not receive data from server: Operation timed out\n",
      "\n"
     ]
    }
   ],
   "source": [
    "\n",
    "import sys\n",
    "sys.path.append(\"/Users/meg/OneDrive - University of Connecticut/Meg_PhDresearch/scripts_notebooks/FPS/fps_calibrations\")\n",
    "sys.path.append(\"/Users/meg/OneDrive - University of Connecticut/Meg_PhDresearch/scripts_notebooks/FPS/robostrategy/python\")\n",
    "import fps_calibrations\n",
    "fps_calibrations.get_version()\n",
    "import glob\n",
    "import numpy as np\n",
    "import coordio.time\n",
    "from mugatu.fpsdesign import FPSDesign\n",
    "from coordio.utils import radec2wokxy\n",
    "import robostrategy.obstime as obstime\n",
    "# specify observation time\n",
    "observatory = 'APO'\n",
    "r_search = 1.49\n",
    "\n",
    "from astropy.io import fits\n"
   ]
  },
  {
   "cell_type": "code",
   "execution_count": 2,
   "metadata": {},
   "outputs": [
    {
     "name": "stderr",
     "output_type": "stream",
     "text": [
      "\u001b[1;33m[WARNING]: \u001b[0m\u001b[0;39mWarning! Wavelengths not supplied, defaulting to 6231 angstrom\u001b[0m \u001b[0;36m(CoordIOUserWarning)\u001b[0m\n"
     ]
    },
    {
     "name": "stdout",
     "output_type": "stream",
     "text": [
      "['COSMOS_surveyMAXHACKED.fits', 'XMMLSS_surveyMAXHACKED.fits', 'RM_surveyMAXHACKED.fits']\n",
      "150.01675\n",
      "validating\n",
      "validated.\n",
      "35.77533\n",
      "validating\n",
      "validated.\n",
      "213.7041666\n",
      "validating\n",
      "validated.\n"
     ]
    }
   ],
   "source": [
    "survey_files = glob.glob(\"*_surveyMAXHACKED.fits\")\n",
    "print(survey_files)\n",
    "for i in survey_files:\n",
    "    hdulist = fits.open(i)\n",
    "    racen = hdulist[0].header['RACEN']\n",
    "    print(racen)\n",
    "    ot = obstime.ObsTime(observatory=observatory.lower())\n",
    "    obsTime = coordio.time.Time(ot.nominal(lst=racen)).jd\n",
    "    # create a mugatu.FPSDesign object that is specified as a manual design\n",
    "    print(\"validating\")\n",
    "    fps_design = FPSDesign(design_pk=-1,\n",
    "                           obsTime=obsTime,\n",
    "                           design_file=i,\n",
    "                           manual_design=True,\n",
    "                           exp=1)\n",
    "    print(\"validated.\")"
   ]
  },
  {
   "cell_type": "code",
   "execution_count": null,
   "metadata": {},
   "outputs": [],
   "source": []
  }
 ],
 "metadata": {
  "kernelspec": {
   "display_name": "Python 3",
   "language": "python",
   "name": "python3"
  },
  "language_info": {
   "codemirror_mode": {
    "name": "ipython",
    "version": 3
   },
   "file_extension": ".py",
   "mimetype": "text/x-python",
   "name": "python",
   "nbconvert_exporter": "python",
   "pygments_lexer": "ipython3",
   "version": "3.8.5"
  }
 },
 "nbformat": 4,
 "nbformat_minor": 4
}
