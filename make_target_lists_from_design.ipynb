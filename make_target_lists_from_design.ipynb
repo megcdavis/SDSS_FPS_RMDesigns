{
 "cells": [
  {
   "cell_type": "code",
   "execution_count": 1,
   "metadata": {},
   "outputs": [
    {
     "data": {
      "text/plain": [
       "['./FINALDESIGNS/survey/zeta-0_104669_0_1391.fits',\n",
       " './FINALDESIGNS/survey/zeta-0_104667_0_1391.fits',\n",
       " './FINALDESIGNS/survey/zeta-0_104668_0_1391.fits']"
      ]
     },
     "execution_count": 1,
     "metadata": {},
     "output_type": "execute_result"
    }
   ],
   "source": [
    "import glob\n",
    "import numpy as np\n",
    "import matplotlib.pyplot as plt\n",
    "from astropy.table import Table\n",
    "import matplotlib.font_manager as font_manager\n",
    "from matplotlib.ticker import (MultipleLocator, FormatStrFormatter,\n",
    "                               AutoMinorLocator)\n",
    "font_prop = font_manager.FontProperties(size=18)\n",
    "plt.rcParams[\"font.family\"] = \"Times\"\n",
    "%matplotlib inline\n",
    "\n",
    "survey_designs = glob.glob(\"./FINALDESIGNS/survey/*\")\n",
    "survey_designs"
   ]
  },
  {
   "cell_type": "code",
   "execution_count": 5,
   "metadata": {},
   "outputs": [],
   "source": [
    "for file in survey_designs:\n",
    "\n",
    "    data2 = Table.read(file, hdu = 2, format='fits')\n",
    "    data1 = Table.read(file, hdu = 1, format='fits')\n",
    "    \n",
    "    assigned_SCIENCEfibers = ((data2['assigned'] == 1) & (data1['category'] == 'science'))\n",
    "    filename = r\"{}_sciencetargs.dat\".format(file.split(\"_\")[1])\n",
    "    f = open(filename, 'w')\n",
    "    print(\"# catalogid      ra      dec      priority\",file=f)\n",
    "    for i in range(len(data1['catalogid'][assigned_SCIENCEfibers])):\n",
    "        print(\"{} {} {} {}\".format( data1['catalogid'][assigned_SCIENCEfibers][i],  data1['ra'][assigned_SCIENCEfibers][i],  data1['dec'][assigned_SCIENCEfibers][i], data1['priority'][assigned_SCIENCEfibers][i]), file=f)\n",
    "\n",
    "    f.close()\n",
    "\n"
   ]
  },
  {
   "cell_type": "code",
   "execution_count": 34,
   "metadata": {},
   "outputs": [],
   "source": [
    "from astropy.io import ascii\n",
    "data = ascii.read(\"./104667_sciencetargs.dat\")  "
   ]
  },
  {
   "cell_type": "code",
   "execution_count": 35,
   "metadata": {},
   "outputs": [
    {
     "data": {
      "text/html": [
       "&lt;Column name=&apos;priority&apos; dtype=&apos;int64&apos; length=30&gt;\n",
       "<table>\n",
       "<tr><td>526</td></tr>\n",
       "<tr><td>531</td></tr>\n",
       "<tr><td>636</td></tr>\n",
       "<tr><td>711</td></tr>\n",
       "<tr><td>716</td></tr>\n",
       "<tr><td>721</td></tr>\n",
       "<tr><td>726</td></tr>\n",
       "<tr><td>731</td></tr>\n",
       "<tr><td>736</td></tr>\n",
       "<tr><td>741</td></tr>\n",
       "<tr><td>746</td></tr>\n",
       "<tr><td>826</td></tr>\n",
       "<tr><td>...</td></tr>\n",
       "<tr><td>916</td></tr>\n",
       "<tr><td>921</td></tr>\n",
       "<tr><td>926</td></tr>\n",
       "<tr><td>931</td></tr>\n",
       "<tr><td>936</td></tr>\n",
       "<tr><td>941</td></tr>\n",
       "<tr><td>946</td></tr>\n",
       "<tr><td>1021</td></tr>\n",
       "<tr><td>1026</td></tr>\n",
       "<tr><td>1031</td></tr>\n",
       "<tr><td>1036</td></tr>\n",
       "<tr><td>1041</td></tr>\n",
       "</table>"
      ],
      "text/plain": [
       "<Column name='priority' dtype='int64' length=30>\n",
       " 526\n",
       " 531\n",
       " 636\n",
       " 711\n",
       " 716\n",
       " 721\n",
       " 726\n",
       " 731\n",
       " 736\n",
       " 741\n",
       " 746\n",
       " 826\n",
       " ...\n",
       " 916\n",
       " 921\n",
       " 926\n",
       " 931\n",
       " 936\n",
       " 941\n",
       " 946\n",
       "1021\n",
       "1026\n",
       "1031\n",
       "1036\n",
       "1041"
      ]
     },
     "execution_count": 35,
     "metadata": {},
     "output_type": "execute_result"
    }
   ],
   "source": [
    "np.unique(data['priority'])"
   ]
  },
  {
   "cell_type": "code",
   "execution_count": 51,
   "metadata": {},
   "outputs": [
    {
     "data": {
      "text/html": [
       "<i>Table length=1</i>\n",
       "<table id=\"table140490556926752\" class=\"table-striped table-bordered table-condensed\">\n",
       "<thead><tr><th>catalogid</th><th>ra</th><th>dec</th><th>priority</th></tr></thead>\n",
       "<thead><tr><th>int64</th><th>float64</th><th>float64</th><th>int64</th></tr></thead>\n",
       "<tr><td>27021597910071748</td><td>214.1431884765625</td><td>51.9803581237793</td><td>526</td></tr>\n",
       "</table>"
      ],
      "text/plain": [
       "<Table length=1>\n",
       "    catalogid             ra              dec        priority\n",
       "      int64            float64          float64       int64  \n",
       "----------------- ----------------- ---------------- --------\n",
       "27021597910071748 214.1431884765625 51.9803581237793      526"
      ]
     },
     "execution_count": 51,
     "metadata": {},
     "output_type": "execute_result"
    }
   ],
   "source": [
    "data[data['catalogid'] == 27021597910071748]"
   ]
  },
  {
   "cell_type": "code",
   "execution_count": 31,
   "metadata": {},
   "outputs": [
    {
     "data": {
      "text/html": [
       "&lt;Column name=&apos;priority&apos; dtype=&apos;float32&apos; length=1&gt;\n",
       "<table>\n",
       "<tr><td>741.0</td></tr>\n",
       "</table>"
      ],
      "text/plain": [
       "<Column name='priority' dtype='float32' length=1>\n",
       "741.0"
      ]
     },
     "execution_count": 31,
     "metadata": {},
     "output_type": "execute_result"
    }
   ],
   "source": [
    "cartdata = Table.read(\"./BHM_cartons_RM_survey_v0.5.fits\", format='fits')\n",
    "cartdata['priority'][cartdata['catalogid'] == 27021597909959048]"
   ]
  },
  {
   "cell_type": "code",
   "execution_count": 23,
   "metadata": {},
   "outputs": [],
   "source": [
    "siglags = Table.read('./RM/sig_RM_lags.dat', format='ascii')\n",
    "data2 = Table.read('./FINALDESIGNS/survey/zeta-0_104667_0_1391.fits', hdu = 2, format='fits')\n",
    "data1 = Table.read('./FINALDESIGNS/survey/zeta-0_104667_0_1391.fits', hdu = 1, format='fits')\n",
    "data2['assigned']"
   ]
  },
  {
   "cell_type": "code",
   "execution_count": 45,
   "metadata": {},
   "outputs": [
    {
     "name": "stdout",
     "output_type": "stream",
     "text": [
      "27021597910082902\n",
      "27021597909961469\n",
      "27021597910083180\n",
      "27021597910083151\n",
      "27021600693889749\n",
      "27021597910082003\n",
      "27021600690786768\n",
      "27021597910082113\n",
      "27021597909961781\n",
      "27021597909960745\n",
      "27021597909961044\n",
      "27021597909962005\n",
      "27021597909960554\n",
      "27021597910083244\n",
      "27021600693548289\n",
      "27021597909961803\n",
      "27021597910083279\n",
      "27021597910083833\n",
      "27021597909965538\n",
      "27021597910082770\n",
      "27021597909961138\n",
      "27021597910082766\n",
      "27021597910084007\n",
      "27021597909960000\n",
      "27021597909961240\n",
      "27021597910081785\n",
      "27021597909960839\n",
      "27021597910086678\n",
      "27021597910084020\n",
      "27021597909959994\n",
      "27021600768953915\n",
      "27021597909959922\n",
      "27021597910081630\n",
      "27021597909959048\n",
      "27021597910082725\n",
      "27021597910086737\n",
      "27021597910084070\n",
      "27021597909959044\n",
      "27021600769312842\n",
      "27021597910082244\n",
      "27021597909959321\n",
      "27021597910082486\n",
      "27021597909964975\n",
      "27021597910085417\n",
      "27021597909959820\n",
      "27021597910082240\n",
      "27021597909965723\n",
      "27021597909959744\n",
      "27021600768472445\n",
      "27021597910085767\n",
      "27021600946661572\n",
      "27021597910087318\n",
      "27021597910084630\n",
      "27021600587084592\n",
      "27021597910082207\n",
      "27021597910085891\n",
      "27021597909959778\n",
      "27021597909965250\n",
      "27021600697321203\n",
      "27021600771593295\n",
      "27021597909959266\n",
      "27021597909965993\n",
      "27021597909958085\n",
      "27021597910082403\n",
      "27021597909965201\n",
      "27021600946663078\n",
      "27021597910084665\n",
      "27021597910084663\n",
      "27021597910069680\n",
      "27021597910085594\n",
      "27021597909958859\n",
      "27021597909945458\n",
      "27021600693887928\n",
      "27021597910069687\n",
      "27021597910085902\n",
      "27021600693198634\n",
      "27021597909958013\n",
      "27021597910084151\n",
      "27021597909958790\n",
      "27021597910089204\n",
      "27021597909962652\n",
      "27021597909958827\n",
      "27021597910084412\n",
      "27021600772130769\n",
      "27021600583639181\n",
      "27021597910086063\n",
      "27021597910069692\n",
      "27021597909945441\n",
      "27021600771593454\n",
      "27021597909957898\n",
      "27021597909958432\n",
      "27021597910069832\n",
      "27021597909945399\n",
      "27021597910086148\n",
      "27021597909965360\n",
      "27021597910084900\n",
      "27021600772472648\n",
      "27021597909944814\n",
      "27021597910085293\n",
      "27021597910087540\n",
      "27021597909958302\n",
      "27021597909958630\n",
      "27021597909959475\n",
      "27021597910084773\n",
      "27021597909958281\n",
      "27021600768117054\n",
      "27021597909963201\n",
      "27021597910071748\n",
      "27021597910069580\n",
      "27021597909957403\n",
      "27021600772131279\n",
      "27021597910069753\n",
      "27021597910085325\n",
      "27021597910069164\n",
      "27021597910086226\n",
      "27021597910071627\n",
      "27021597910085259\n",
      "27021600701578153\n",
      "27021597910086446\n",
      "27021597910071510\n",
      "27021600686864403\n",
      "27021597910068969\n",
      "27021600693550558\n",
      "27021597910087691\n",
      "27021597909962135\n",
      "27021597909962059\n",
      "27021597910091928\n",
      "27021597909945183\n",
      "27021597909962171\n",
      "27021597909944693\n",
      "27021597910072197\n",
      "27021597910072389\n",
      "27021597910086980\n",
      "27021597909962197\n",
      "27021597909945367\n",
      "27021597909962046\n",
      "27021597910092804\n",
      "27021597909966912\n",
      "27021597909966868\n",
      "27021597909962370\n",
      "27021597909960932\n",
      "27021600691939077\n",
      "27021597909962846\n",
      "27021597910085583\n",
      "27021597910087137\n",
      "27021597909962207\n",
      "27021600774283327\n",
      "27021597910085070\n",
      "27021597909963042\n"
     ]
    }
   ],
   "source": [
    "tolerance = 0.005\n",
    "fps = 0\n",
    "notyet = 0\n",
    "\n",
    "for i in range(len(siglags['RMID'])):\n",
    "    try:\n",
    "        print(data['catalogid'][np.where((data['ra'] >= (siglags['RA'][i] -tolerance))&(data['ra'] <= (siglags['RA'][i]+tolerance))&(data['dec'] >= (siglags['DEC'][i] -tolerance))&(data['dec'] <= (siglags['DEC'][i] +tolerance)))][0])\n",
    "        fps+=1\n",
    "    except:\n",
    "        notyet +=1\n",
    "         "
   ]
  },
  {
   "cell_type": "code",
   "execution_count": 54,
   "metadata": {},
   "outputs": [
    {
     "data": {
      "text/plain": [
       "149"
      ]
     },
     "execution_count": 54,
     "metadata": {},
     "output_type": "execute_result"
    }
   ],
   "source": [
    "fps#/len(siglags['RMID'])"
   ]
  },
  {
   "cell_type": "code",
   "execution_count": 52,
   "metadata": {},
   "outputs": [
    {
     "data": {
      "text/plain": [
       "0"
      ]
     },
     "execution_count": 52,
     "metadata": {},
     "output_type": "execute_result"
    }
   ],
   "source": [
    "nomatch"
   ]
  },
  {
   "cell_type": "code",
   "execution_count": 53,
   "metadata": {},
   "outputs": [
    {
     "data": {
      "text/plain": [
       "46"
      ]
     },
     "execution_count": 53,
     "metadata": {},
     "output_type": "execute_result"
    }
   ],
   "source": [
    "notyet"
   ]
  },
  {
   "cell_type": "code",
   "execution_count": null,
   "metadata": {},
   "outputs": [],
   "source": []
  }
 ],
 "metadata": {
  "kernelspec": {
   "display_name": "Python 3",
   "language": "python",
   "name": "python3"
  },
  "language_info": {
   "codemirror_mode": {
    "name": "ipython",
    "version": 3
   },
   "file_extension": ".py",
   "mimetype": "text/x-python",
   "name": "python",
   "nbconvert_exporter": "python",
   "pygments_lexer": "ipython3",
   "version": "3.8.5"
  }
 },
 "nbformat": 4,
 "nbformat_minor": 4
}
