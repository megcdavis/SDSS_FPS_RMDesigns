{
 "cells": [
  {
   "cell_type": "code",
   "execution_count": 1,
   "metadata": {},
   "outputs": [
    {
     "data": {
      "text/plain": [
       "True"
      ]
     },
     "execution_count": 1,
     "metadata": {},
     "output_type": "execute_result"
    }
   ],
   "source": [
    "from sdssdb.peewee.sdss5db import targetdb\n",
    "\n",
    "# connect to targetdb\n",
    "targetdb.database.connect_from_parameters(user='sdss_user', password='4-replicant',\n",
    "                                          host='localhost',\n",
    "                                          port=7500)"
   ]
  },
  {
   "cell_type": "code",
   "execution_count": 2,
   "metadata": {},
   "outputs": [],
   "source": [
    "from peewee import *\n",
    "import numpy as np\n",
    "\n",
    "##MEG & JON: 3 changes to be made\n",
    "# set search radius based on field size for APO or LCO\n",
    "observatory = 'LCO'\n",
    "if observatory == 'APO':\n",
    "    r_search = 1.49\n",
    "else:\n",
    "    r_search = 0.95\n",
    "skies = 50\n",
    "# specify the field center and position angle\n",
    "#MEG & JON: CHANGE FOR FIELD\n",
    "#from: https://wiki.sdss.org/display/BHM/Reverberation+Mapping\n",
    "##XMM LSS #s\n",
    "# racen = 35.708333\n",
    "# deccen = -5.050000\n",
    "# fieldname = \"XMMLSS\"\n",
    "##SDSS-RM\n",
    "# racen = 213.7041666\n",
    "# deccen = 53.083333\n",
    "# fieldname = \"RM\"\n",
    "# ##COSMOS\n",
    "# racen = 10.0*15\n",
    "# deccen = 2.20\n",
    "# fieldname = \"COSMOS\"\n"
   ]
  },
  {
   "cell_type": "code",
   "execution_count": 3,
   "metadata": {},
   "outputs": [],
   "source": [
    "## SOUTHERN FIELDS\n",
    "\n",
    "# #skies: best\n",
    "racen = 52.6483\n",
    "deccen = -28.1\n",
    "fieldname = \"DESCNC3\"\n",
    "# cartons = ['bhm_csc_boss', 'bhm_spiders_agn_lsdr8','bhm_rm_known_spec', 'bhm_rm_core','bhm_rm_var','bhm_rm_ancillary','ops_std_boss_gdr2']\n",
    "\n",
    "#skies: good\n",
    "# racen = 90.0\n",
    "# deccen = -66.5605\n",
    "# fieldname = \"SCVZ\"\n",
    "# cartons = ['bhm_rm_known_spec', 'bhm_rm_core','bhm_rm_var', 'bhm_spiders_agn_sep','bhm_rm_ancillary','ops_std_boss_gdr2']\n",
    "\n",
    "# ##skies: best\n",
    "# racen = 9.45\n",
    "# deccen = -44\n",
    "# fieldname = \"ELAIS\"\n",
    "# cartons = ['bhm_csc_boss', 'bhm_spiders_agn_lsdr8','bhm_rm_known_spec', 'bhm_rm_core','bhm_rm_var','bhm_rm_ancillary','ops_std_boss_gdr2']"
   ]
  },
  {
   "cell_type": "code",
   "execution_count": 4,
   "metadata": {},
   "outputs": [],
   "source": [
    "cartons = ['bhm_rm_known_spec', 'bhm_rm_var', 'bhm_rm_core','bhm_rm_ancillary','bhm_rm_xrayqso']#, 'ops_std_boss_gdr2']#APO:'ops_std_eboss', 'ops_sky_boss' ]#['bhm_csc_boss', 'bhm_spiders_agn_lsdr8'] #['bhm_rm_known_spec', 'bhm_rm_core','bhm_rm_var', 'bhm_spiders_agn_sep','bhm_rm_ancillary','ops_std_boss_gdr2']#'ops_sky_apogee',\n",
    "plan = '1.0.12'\n",
    "# get all of the targets in the commissioning carton near the field center\n",
    "all_targs = (targetdb.Target.select(targetdb.Target.catalogid,\n",
    "                                   targetdb.Target.ra,\n",
    "                                   targetdb.Target.dec,\n",
    "                                   targetdb.Target.pk,\n",
    "                                   targetdb.CartonToTarget.priority,\n",
    "                                   targetdb.CartonToTarget.value,\n",
    "                                   targetdb.Cadence.label,\n",
    "                                   targetdb.Carton.carton,\n",
    "                                   targetdb.CartonToTarget.pk,\n",
    "                                   targetdb.Magnitude.g,\n",
    "                                   targetdb.Magnitude.r,\n",
    "                                   targetdb.Magnitude.i,\n",
    "                                   targetdb.Magnitude.z,\n",
    "                                   targetdb.Magnitude.bp,\n",
    "                                   targetdb.Magnitude.gaia_g,\n",
    "                                   targetdb.Magnitude.rp,\n",
    "                                   targetdb.Magnitude.j,\n",
    "                                   targetdb.Magnitude.h,\n",
    "                                   targetdb.Magnitude.k,\n",
    "                                   targetdb.Category.label,\n",
    "                                   targetdb.Carton.program,\n",
    "                                   targetdb.Instrument.label,\n",
    "                                   targetdb.Version.plan)\n",
    "                    .join(targetdb.CartonToTarget)\n",
    "                    .join(targetdb.Cadence, JOIN.LEFT_OUTER)\n",
    "                    .switch(targetdb.CartonToTarget)\n",
    "                    .join(targetdb.Carton)\n",
    "                    .join(targetdb.Version, JOIN.LEFT_OUTER)\n",
    "                    .switch(targetdb.Carton)\n",
    "                    .join(targetdb.Category)\n",
    "                    .switch(targetdb.CartonToTarget)\n",
    "                    .join(targetdb.Magnitude, JOIN.LEFT_OUTER)\n",
    "                    .switch(targetdb.CartonToTarget)\n",
    "                    .join(targetdb.Instrument)\n",
    "                    .where((targetdb.Carton.carton.in_(cartons)) &\n",
    "                           (targetdb.Target.cone_search(racen, deccen, r_search)) &\n",
    "                           (targetdb.Version.plan == plan)))\n",
    "\n",
    "ops_carton = ['ops_sky_boss_good', 'ops_sky_boss_best']\n",
    "ops_plan = '0.5.9'\n",
    "ops_query = (targetdb.Target.select(targetdb.Target.catalogid,\n",
    "                                   targetdb.Target.ra,\n",
    "                                   targetdb.Target.dec,\n",
    "                                   targetdb.Target.pk,\n",
    "                                   targetdb.CartonToTarget.priority,\n",
    "                                   targetdb.CartonToTarget.value,\n",
    "                                   targetdb.Cadence.label,\n",
    "                                   targetdb.Carton.carton,\n",
    "                                   targetdb.CartonToTarget.pk,\n",
    "                                   targetdb.Magnitude.g,\n",
    "                                   targetdb.Magnitude.r,\n",
    "                                   targetdb.Magnitude.i,\n",
    "                                   targetdb.Magnitude.z,\n",
    "                                   targetdb.Magnitude.bp,\n",
    "                                   targetdb.Magnitude.gaia_g,\n",
    "                                   targetdb.Magnitude.rp,\n",
    "                                   targetdb.Magnitude.j,\n",
    "                                   targetdb.Magnitude.h,\n",
    "                                   targetdb.Magnitude.k,\n",
    "                                   targetdb.Category.label,\n",
    "                                   targetdb.Carton.program,\n",
    "                                   targetdb.Instrument.label,\n",
    "                                   targetdb.Version.plan)\n",
    "                    .join(targetdb.CartonToTarget)\n",
    "                    .join(targetdb.Cadence, JOIN.LEFT_OUTER)\n",
    "                    .switch(targetdb.CartonToTarget)\n",
    "                    .join(targetdb.Carton)\n",
    "                    .join(targetdb.Version, JOIN.LEFT_OUTER)\n",
    "                    .switch(targetdb.Carton)\n",
    "                    .join(targetdb.Category)\n",
    "                    .switch(targetdb.CartonToTarget)\n",
    "                    .join(targetdb.Magnitude, JOIN.LEFT_OUTER)\n",
    "                    .switch(targetdb.CartonToTarget)\n",
    "                    .join(targetdb.Instrument)\n",
    "                    .where((targetdb.Carton.carton.in_(ops_carton)) &\n",
    "                           (targetdb.Target.cone_search(racen, deccen, r_search)) &\n",
    "                           (targetdb.Version.plan == ops_plan)))\n",
    "\n",
    "std_carton = ['ops_std_boss_gdr2']#['ops_std_eboss']#, 'ops_std_boss_lsdr10', 'ops_std_boss_gdr2']#\n",
    "std_plan = ['1.0.13']#,'1.0.5','1.0.13'] #'0.5.0'\n",
    "std_query = (targetdb.Target.select(targetdb.Target.catalogid,\n",
    "                                   targetdb.Target.ra,\n",
    "                                   targetdb.Target.dec,\n",
    "                                   targetdb.Target.pk,\n",
    "                                   targetdb.CartonToTarget.priority,\n",
    "                                   targetdb.CartonToTarget.value,\n",
    "                                   targetdb.Cadence.label,\n",
    "                                   targetdb.Carton.carton,\n",
    "                                   targetdb.CartonToTarget.pk,\n",
    "                                   targetdb.Magnitude.g,\n",
    "                                   targetdb.Magnitude.r,\n",
    "                                   targetdb.Magnitude.i,\n",
    "                                   targetdb.Magnitude.z,\n",
    "                                   targetdb.Magnitude.bp,\n",
    "                                   targetdb.Magnitude.gaia_g,\n",
    "                                   targetdb.Magnitude.rp,\n",
    "                                   targetdb.Magnitude.j,\n",
    "                                   targetdb.Magnitude.h,\n",
    "                                   targetdb.Magnitude.k,\n",
    "                                   targetdb.Category.label,\n",
    "                                   targetdb.Carton.program,\n",
    "                                   targetdb.Instrument.label,\n",
    "                                   targetdb.Version.plan)\n",
    "                    .join(targetdb.CartonToTarget)\n",
    "                    .join(targetdb.Cadence, JOIN.LEFT_OUTER)\n",
    "                    .switch(targetdb.CartonToTarget)\n",
    "                    .join(targetdb.Carton)\n",
    "                    .join(targetdb.Version, JOIN.LEFT_OUTER)\n",
    "                    .switch(targetdb.Carton)\n",
    "                    .join(targetdb.Category)\n",
    "                    .switch(targetdb.CartonToTarget)\n",
    "                    .join(targetdb.Magnitude, JOIN.LEFT_OUTER)\n",
    "                    .switch(targetdb.CartonToTarget)\n",
    "                    .join(targetdb.Instrument)\n",
    "                    .where((targetdb.Carton.carton.in_(std_carton)) &\n",
    "                           (targetdb.Target.cone_search(racen, deccen, r_search)) &\n",
    "                           (targetdb.Version.plan == std_plan)))\n",
    "\n",
    "\n",
    "AQMES_carton = [ 'bhm_spiders_agn_lsdr10', 'bhm_csc_boss']#'bhm_spiders_agn_sep'\n",
    "AQMES_plan = '1.0.37'\n",
    "AQMES_query = (targetdb.Target.select(targetdb.Target.catalogid,\n",
    "                                   targetdb.Target.ra,\n",
    "                                   targetdb.Target.dec,\n",
    "                                   targetdb.Target.pk,\n",
    "                                   targetdb.CartonToTarget.priority,\n",
    "                                   targetdb.CartonToTarget.value,\n",
    "                                   targetdb.Cadence.label,\n",
    "                                   targetdb.Carton.carton,\n",
    "                                   targetdb.CartonToTarget.pk,\n",
    "                                   targetdb.Magnitude.g,\n",
    "                                   targetdb.Magnitude.r,\n",
    "                                   targetdb.Magnitude.i,\n",
    "                                   targetdb.Magnitude.z,\n",
    "                                   targetdb.Magnitude.bp,\n",
    "                                   targetdb.Magnitude.gaia_g,\n",
    "                                   targetdb.Magnitude.rp,\n",
    "                                   targetdb.Magnitude.j,\n",
    "                                   targetdb.Magnitude.h,\n",
    "                                   targetdb.Magnitude.k,\n",
    "                                   targetdb.Category.label,\n",
    "                                   targetdb.Carton.program,\n",
    "                                   targetdb.Instrument.label,\n",
    "                                   targetdb.Version.plan)\n",
    "                    .join(targetdb.CartonToTarget)\n",
    "                    .join(targetdb.Cadence, JOIN.LEFT_OUTER)\n",
    "                    .switch(targetdb.CartonToTarget)\n",
    "                    .join(targetdb.Carton)\n",
    "                    .join(targetdb.Version, JOIN.LEFT_OUTER)\n",
    "                    .switch(targetdb.Carton)\n",
    "                    .join(targetdb.Category)\n",
    "                    .switch(targetdb.CartonToTarget)\n",
    "                    .join(targetdb.Magnitude, JOIN.LEFT_OUTER)\n",
    "                    .switch(targetdb.CartonToTarget)\n",
    "                    .join(targetdb.Instrument)\n",
    "                    .where((targetdb.Carton.carton.in_(AQMES_carton)) &\n",
    "                           (targetdb.Target.cone_search(racen, deccen, r_search)) &\n",
    "                           (targetdb.Version.plan == AQMES_plan)))\n",
    "\n",
    "# # grab the results\n",
    "catalogid1, ra1, dec1, target_pk1, priority1, value1, cadences1, carton1, carton_to_target_pk1, g1, r1, i1, z1, bp1, gaia_g1, rp1, j1, h1,k1, category1, program1, instrument1,plan1  = map(list, zip(*list(all_targs.tuples())))\n",
    "catalogid1 = np.array(catalogid1, dtype=np.int64)\n",
    "ra1 = np.array(ra1)\n",
    "dec1 = np.array(dec1)\n",
    "target_pk1 = np.array(target_pk1, dtype=np.int64)\n",
    "priority1 = np.array(priority1)\n",
    "value1 = np.array(value1)\n",
    "carton1 = np.array(carton1)\n",
    "carton_to_target_pk1 = np.array(carton_to_target_pk1)\n",
    "magnitudes1 = np.zeros((len(g1),10))\n",
    "magnitudes1[:, 0] = g1\n",
    "magnitudes1[:, 1] = r1\n",
    "magnitudes1[:, 2] = i1\n",
    "magnitudes1[:, 3] = z1\n",
    "magnitudes1[:, 4] = bp1\n",
    "magnitudes1[:, 5] = gaia_g1\n",
    "magnitudes1[:, 6] = rp1\n",
    "magnitudes1[:, 7] = j1\n",
    "magnitudes1[:, 8] = h1\n",
    "magnitudes1[:, 9] = k1\n",
    "category1 = np.array(category1)\n",
    "program1 = np.array(program1)\n",
    "instrument1 = np.array(instrument1)\n",
    "plan1 = np.array(plan1)\n",
    "#tag1 = np.full(len(catalogid1), '1.0.12')\n",
    "# # grab the results, but for the sky stuff\n",
    "catalogid2, ra2, dec2, target_pk2, priority2, value2, cadences2, carton2, carton_to_target_pk2, g2, r2, i2, z2, bp2, gaia_g2, rp2, j2, h2, k2, category2, program2, instrument2, plan2 = map(list, zip(*list(ops_query.tuples())))\n",
    "catalogid2 = np.array(catalogid2, dtype=np.int64)\n",
    "ra2 = np.array(ra2)\n",
    "dec2 = np.array(dec2)\n",
    "target_pk2 = np.array(target_pk2, dtype=np.int64)\n",
    "priority2 = np.array(priority2)\n",
    "value2 = np.array(value2)\n",
    "carton2 = np.array(carton2)\n",
    "carton_to_target_pk2 = np.array(carton_to_target_pk2)\n",
    "magnitudes2 = np.zeros((len(g2),10))\n",
    "magnitudes2[:, 0] = g2\n",
    "magnitudes2[:, 1] = r2\n",
    "magnitudes2[:, 2] = i2\n",
    "magnitudes2[:, 3] = z2\n",
    "magnitudes2[:, 4] = bp2\n",
    "magnitudes2[:, 5] = gaia_g2\n",
    "magnitudes2[:, 6] = rp2\n",
    "magnitudes2[:, 7] = j2\n",
    "magnitudes2[:, 8] = h2\n",
    "magnitudes2[:, 9] = k2\n",
    "category2 = np.array(category2)\n",
    "program2 = np.array(program2)\n",
    "instrument2 = np.array(instrument2)\n",
    "plan2 = np.array(plan2)\n",
    "\n",
    "catalogid3, ra3, dec3, target_pk3, priority3, value3, cadences3, carton3, carton_to_target_pk3, g3, r3, i3, z3, bp3, gaia_g3, rp3, j3, h3, k3, category3, program3, instrument3, plan3 = map(list, zip(*list(std_query.tuples())))\n",
    "catalogid3 = np.array(catalogid3, dtype=np.int64)\n",
    "ra3 = np.array(ra3)\n",
    "dec3 = np.array(dec3)\n",
    "target_pk3 = np.array(target_pk3, dtype=np.int64)\n",
    "priority3 = np.array(priority3)\n",
    "value3 = np.array(value3)\n",
    "carton3 = np.array(carton3)\n",
    "carton_to_target_pk3 = np.array(carton_to_target_pk3)\n",
    "magnitudes3 = np.zeros((len(g3),10))\n",
    "magnitudes3[:, 0] = g3\n",
    "magnitudes3[:, 1] = r3\n",
    "magnitudes3[:, 2] = i3\n",
    "magnitudes3[:, 3] = z3\n",
    "magnitudes3[:, 4] = bp3\n",
    "magnitudes3[:, 5] = gaia_g3\n",
    "magnitudes3[:, 6] = rp3\n",
    "magnitudes3[:, 7] = j3\n",
    "magnitudes3[:, 8] = h3\n",
    "magnitudes3[:, 9] = k3\n",
    "category3 = np.array(category3)\n",
    "program3 = np.array(program3)\n",
    "instrument3 = np.array(instrument3)\n",
    "plan3 = np.array(plan3)\n",
    "\n",
    "catalogid4, ra4, dec4, target_pk4, priority4, value4, cadences4, carton4, carton_to_target_pk4, g4, r4, i4, z4, bp4, gaia_g4, rp4, j4, h4, k4, category4, program4, instrument4, plan4 = map(list, zip(*list(AQMES_query.tuples())))\n",
    "catalogid4 = np.array(catalogid4, dtype=np.int64)\n",
    "ra4 = np.array(ra4)\n",
    "dec4 = np.array(dec4)\n",
    "target_pk4 = np.array(target_pk4, dtype=np.int64)\n",
    "priority4 = np.array(priority4)\n",
    "value4 = np.array(value4)\n",
    "carton4 = np.array(carton4)\n",
    "carton_to_target_pk4 = np.array(carton_to_target_pk4)\n",
    "magnitudes4 = np.zeros((len(g4),10))\n",
    "magnitudes4[:, 0] = g4\n",
    "magnitudes4[:, 1] = r4\n",
    "magnitudes4[:, 2] = i4\n",
    "magnitudes4[:, 3] = z4\n",
    "magnitudes4[:, 4] = bp4\n",
    "magnitudes4[:, 5] = gaia_g4\n",
    "magnitudes4[:, 6] = rp4\n",
    "magnitudes4[:, 7] = j4\n",
    "magnitudes4[:, 8] = h4\n",
    "magnitudes4[:, 9] = k4\n",
    "category4 = np.array(category4)\n",
    "program4 = np.array(program4)\n",
    "instrument4 = np.array(instrument4)\n",
    "plan4 = np.array(plan4)\n",
    "\n",
    "\n",
    "# # #append together, only 1-3\n",
    "# catalogid = np.concatenate([catalogid1, catalogid2, catalogid3], axis=0)\n",
    "# ra = np.concatenate([ra1, ra2,ra3], axis=0)\n",
    "# dec = np.concatenate([dec1, dec2, dec3], axis=0)\n",
    "# target_pk = np.concatenate([target_pk1, target_pk2,target_pk3], axis=0)\n",
    "# priority = np.concatenate([priority1, priority2,priority3], axis=0)\n",
    "# value = np.concatenate([value1, value2, value3], axis=0)\n",
    "# carton = np.concatenate([carton1, carton2, carton3], axis=0)\n",
    "# carton_to_target_pk = np.concatenate([carton_to_target_pk1, carton_to_target_pk2, carton_to_target_pk3], axis=0)\n",
    "# g = np.concatenate([g1, g2, g3], axis=0)\n",
    "# r = np.concatenate([r1, r2, r3], axis=0)\n",
    "# i = np.concatenate([i1, i2, i3], axis=0)\n",
    "# z = np.concatenate([z1, z2, z3], axis=0)\n",
    "# bp = np.concatenate([bp1, bp2, bp3], axis=0)\n",
    "# gaia_g = np.concatenate([gaia_g1, gaia_g2, gaia_g3], axis=0)\n",
    "# rp = np.concatenate([rp1, rp2, rp3], axis=0)\n",
    "# j = np.concatenate([j1, j2, j3], axis=0)\n",
    "# h = np.concatenate([h1, h2, h3], axis=0)\n",
    "# k = np.concatenate([k1, k2, k3], axis=0)\n",
    "\n",
    "# magnitudes = np.concatenate([magnitudes1, magnitudes2,magnitudes3], axis=0)\n",
    "# program = np.concatenate([program1, program2,program3], axis=0)\n",
    "# category = np.concatenate([category1, category2, category3], axis=0)\n",
    "# instrument = np.concatenate([instrument1, instrument2,instrument3], axis=0)\n",
    "# plan = np.concatenate([plan1, plan2, plan3], axis=0)\n",
    "\n",
    "# tag = np.full(len(catalogid), '1.0.12')\n",
    "\n",
    "# #append together, for AQMES too\n",
    "catalogid = np.concatenate([catalogid1, catalogid2, catalogid3, catalogid4], axis=0)\n",
    "ra = np.concatenate([ra1, ra2,ra3, ra4], axis=0)\n",
    "dec = np.concatenate([dec1, dec2, dec3, dec4], axis=0)\n",
    "target_pk = np.concatenate([target_pk1, target_pk2,target_pk3, target_pk4], axis=0)\n",
    "priority = np.concatenate([priority1, priority2,priority3, priority4], axis=0)\n",
    "value = np.concatenate([value1, value2, value3, value4], axis=0)\n",
    "carton = np.concatenate([carton1, carton2, carton3, carton4], axis=0)\n",
    "carton_to_target_pk = np.concatenate([carton_to_target_pk1, carton_to_target_pk2, carton_to_target_pk3, carton_to_target_pk4], axis=0)\n",
    "g = np.concatenate([g1, g2, g3, g4], axis=0)\n",
    "r = np.concatenate([r1, r2, r3, r4], axis=0)\n",
    "i = np.concatenate([i1, i2, i3, i4], axis=0)\n",
    "z = np.concatenate([z1, z2, z3, z4], axis=0)\n",
    "bp = np.concatenate([bp1, bp2, bp3, bp4], axis=0)\n",
    "gaia_g = np.concatenate([gaia_g1, gaia_g2, gaia_g3, gaia_g4], axis=0)\n",
    "rp = np.concatenate([rp1, rp2, rp3, rp4], axis=0)\n",
    "j = np.concatenate([j1, j2, j3, j4], axis=0)\n",
    "h = np.concatenate([h1, h2, h3, h4], axis=0)\n",
    "k = np.concatenate([k1, k2, k3, k4], axis=0)\n",
    "\n",
    "magnitudes = np.concatenate([magnitudes1, magnitudes2,magnitudes3, magnitudes4], axis=0)\n",
    "program = np.concatenate([program1, program2,program3, program4], axis=0)\n",
    "category = np.concatenate([category1, category2, category3, category4], axis=0)\n",
    "instrument = np.concatenate([instrument1, instrument2,instrument3, instrument4], axis=0)\n",
    "plan = np.concatenate([plan1, plan2, plan3, plan4], axis=0)\n",
    "\n",
    "tag = np.full(len(catalogid), '1.0.12')\n",
    "\n",
    "\n",
    "# # specify the instrument for each target\n",
    "# # instrument = np.zeros(len(carton), dtype='<U10')\n",
    "\n",
    "# # #MEG & JON: CHANGE FOR FIELD\n",
    "# # instrument[carton == 'ops_sky_boss'] = 'BOSS'\n",
    "# # instrument[carton == 'ops_std_eboss'] = 'BOSS'\n",
    "# # instrument[carton == 'bhm_rm_known_spec'] = 'BOSS'\n",
    "# # instrument[carton == 'bhm_rm_core'] = 'BOSS'\n",
    "# # instrument[carton == 'bhm_rm_var'] = 'BOSS'\n",
    "# # instrument[carton == 'bhm_rm_ancillary'] = 'BOSS'"
   ]
  },
  {
   "cell_type": "code",
   "execution_count": 5,
   "metadata": {},
   "outputs": [
    {
     "data": {
      "text/plain": [
       "(4609,)"
      ]
     },
     "execution_count": 5,
     "metadata": {},
     "output_type": "execute_result"
    }
   ],
   "source": [
    "plan.shape"
   ]
  },
  {
   "cell_type": "code",
   "execution_count": 6,
   "metadata": {},
   "outputs": [
    {
     "data": {
      "text/plain": [
       "4609"
      ]
     },
     "execution_count": 6,
     "metadata": {},
     "output_type": "execute_result"
    }
   ],
   "source": [
    "len(catalogid)"
   ]
  },
  {
   "cell_type": "code",
   "execution_count": 7,
   "metadata": {},
   "outputs": [
    {
     "data": {
      "text/plain": [
       "762"
      ]
     },
     "execution_count": 7,
     "metadata": {},
     "output_type": "execute_result"
    }
   ],
   "source": [
    "ks = (np.array(category) == 'science')\n",
    "len(np.unique(np.array(catalogid)[ks]))"
   ]
  },
  {
   "cell_type": "code",
   "execution_count": 8,
   "metadata": {},
   "outputs": [
    {
     "data": {
      "text/plain": [
       "41"
      ]
     },
     "execution_count": 8,
     "metadata": {},
     "output_type": "execute_result"
    }
   ],
   "source": [
    "1813-1772"
   ]
  },
  {
   "cell_type": "code",
   "execution_count": 9,
   "metadata": {},
   "outputs": [
    {
     "name": "stdout",
     "output_type": "stream",
     "text": [
      "field:  DESCNC3\n",
      "unique cartons: ['bhm_csc_boss' 'bhm_rm_ancillary' 'bhm_rm_core' 'bhm_rm_known_spec'\n",
      " 'bhm_rm_var' 'bhm_rm_xrayqso' 'bhm_spiders_agn_lsdr10'\n",
      " 'ops_sky_boss_best' 'ops_sky_boss_good' 'ops_std_boss_gdr2']\n",
      "tot new:  4609\n",
      "tot new unique:  2617\n"
     ]
    }
   ],
   "source": [
    "## CHECKING OUT X_RAY STUFF\n",
    "print('field: ', fieldname)\n",
    "print(\"unique cartons:\", np.unique(carton))\n",
    "# print(\"bhm_csc_boss:\", len(np.where((carton == np.unique(carton)[0]))[0]))\n",
    "# print(\"bhm_spiders_agn_lsdr8:\", len(np.where((carton == np.unique(carton)[1]))[0]))\n",
    "print(\"tot new: \", len(catalogid))\n",
    "print(\"tot new unique: \", len(np.unique(catalogid)))"
   ]
  },
  {
   "cell_type": "code",
   "execution_count": 10,
   "metadata": {},
   "outputs": [
    {
     "name": "stdout",
     "output_type": "stream",
     "text": [
      "skies: 1712\n",
      "stds: 143\n",
      "science targs:  1538\n",
      "unique cartons: ['bhm_csc_boss' 'bhm_rm_ancillary' 'bhm_rm_core' 'bhm_rm_known_spec'\n",
      " 'bhm_rm_var' 'bhm_rm_xrayqso' 'bhm_spiders_agn_lsdr10'\n",
      " 'ops_sky_boss_best' 'ops_sky_boss_good' 'ops_std_boss_gdr2']\n"
     ]
    }
   ],
   "source": [
    "print(\"skies:\", len(np.where((carton == 'ops_sky_boss_good'))[0])) #may need to change to _good or _best\n",
    "print(\"stds:\", len(np.where((carton == 'ops_std_boss_gdr2'))[0]))\n",
    "#print(\"science- erosita carton SCVZ ONLY:\", len(np.where((carton == 'bhm_spiders_agn_sep'))[0]))\n",
    "print(\"science targs: \", len(np.where((category == 'science'))[0]))\n",
    "print(\"unique cartons:\", np.unique(carton))"
   ]
  },
  {
   "cell_type": "code",
   "execution_count": 35,
   "metadata": {},
   "outputs": [
    {
     "data": {
      "text/plain": [
       "array([2001, 2041])"
      ]
     },
     "execution_count": 35,
     "metadata": {},
     "output_type": "execute_result"
    }
   ],
   "source": [
    "# #S-CVZ NEW TARGET DESIGN: EDIT KNOWN_SPEC AND SPIDERS, INCREASE PRIORITY (DEPRIORITIZE)\n",
    "# depriori = ((carton == 'bhm_rm_known_spec')|(carton == 'bhm_spiders_agn_sep'))\n",
    "# priority[depriori] += 1000\n",
    "# priority[depriori]\n",
    "#np.unique(priority[(carton == 'bhm_rm_known_spec' )])"
   ]
  },
  {
   "cell_type": "code",
   "execution_count": 11,
   "metadata": {},
   "outputs": [],
   "source": [
    "from astropy.table import Table, Column\n",
    "tab = Table()\n",
    "tab.add_column(Column(name=\"catalogid\", data=catalogid, dtype='int64'))\n",
    "tab.add_column(Column(name=\"ra\", data=ra, dtype='float32'))\n",
    "tab.add_column(Column(name=\"dec\", data=dec, dtype='float32'))\n",
    "tab.add_column(Column(name=\"target_pk\", data=target_pk, dtype='int64'))\n",
    "tab.add_column(Column(name=\"priority\", data=priority, dtype='float32'))\n",
    "tab.add_column(Column(name=\"value\", data=value, dtype='float32'))\n",
    "tab.add_column(Column(name=\"carton\", data=carton))\n",
    "tab.add_column(Column(name=\"instrument\", data=instrument, dtype='<U10'))\n",
    "tab.add_column(Column(name=\"carton_to_target_pk\", data=carton_to_target_pk, dtype='int64'))\n",
    "tab.add_column(Column(name=\"g\", data=g, dtype='float32'))\n",
    "tab.add_column(Column(name=\"r\", data=r, dtype='float32'))\n",
    "tab.add_column(Column(name=\"i\", data=i, dtype='float32'))\n",
    "tab.add_column(Column(name=\"z\", data=z, dtype='float32'))\n",
    "tab.add_column(Column(name=\"bp\", data=bp, dtype='float32'))\n",
    "tab.add_column(Column(name=\"gaia_g\", data=gaia_g, dtype='float32'))\n",
    "tab.add_column(Column(name=\"rp\", data=rp, dtype='float32'))\n",
    "tab.add_column(Column(name=\"j\", data=j, dtype='float32'))\n",
    "tab.add_column(Column(name=\"h\", data=h, dtype='float32'))\n",
    "tab.add_column(Column(name=\"k\", data=k, dtype='float32'))\n",
    "tab.add_column(Column(name=\"category\", data=category))\n",
    "tab.add_column(Column(name=\"tag\", data=tag, dtype='<U10'))\n",
    "tab.add_column(Column(name=\"plan\", data=plan, dtype='<U10'))\n",
    "tab.add_column(Column(name=\"program\", data=program))\n",
    "tab.write(\"BHM_cartons_{}_v1.fits\".format(fieldname), format='fits', overwrite=True)"
   ]
  },
  {
   "cell_type": "code",
   "execution_count": 80,
   "metadata": {},
   "outputs": [
    {
     "data": {
      "text/plain": [
       "39"
      ]
     },
     "execution_count": 80,
     "metadata": {},
     "output_type": "execute_result"
    }
   ],
   "source": [
    "1413-1374"
   ]
  },
  {
   "cell_type": "code",
   "execution_count": 79,
   "metadata": {},
   "outputs": [
    {
     "data": {
      "text/html": [
       "&lt;Column name=&apos;catalogid&apos; dtype=&apos;int64&apos; length=1374&gt;\n",
       "<table>\n",
       "<tr><td>63050395065900021</td></tr>\n",
       "<tr><td>63050395065900064</td></tr>\n",
       "<tr><td>63050395065900084</td></tr>\n",
       "<tr><td>63050395065900085</td></tr>\n",
       "<tr><td>63050395065900097</td></tr>\n",
       "<tr><td>63050395065900106</td></tr>\n",
       "<tr><td>63050395065900107</td></tr>\n",
       "<tr><td>63050395065900123</td></tr>\n",
       "<tr><td>63050395065900129</td></tr>\n",
       "<tr><td>63050395065900158</td></tr>\n",
       "<tr><td>63050395065900165</td></tr>\n",
       "<tr><td>63050395065900740</td></tr>\n",
       "<tr><td>...</td></tr>\n",
       "<tr><td>63050398799188411</td></tr>\n",
       "<tr><td>63050398799219196</td></tr>\n",
       "<tr><td>63050398799221372</td></tr>\n",
       "<tr><td>63050398799222680</td></tr>\n",
       "<tr><td>63050399461528711</td></tr>\n",
       "<tr><td>63050399468959060</td></tr>\n",
       "<tr><td>63050399472062815</td></tr>\n",
       "<tr><td>63050399475822670</td></tr>\n",
       "<tr><td>63050399476342617</td></tr>\n",
       "<tr><td>63050399478305210</td></tr>\n",
       "<tr><td>63050399487806500</td></tr>\n",
       "<tr><td>63050399494178184</td></tr>\n",
       "</table>"
      ],
      "text/plain": [
       "<Column name='catalogid' dtype='int64' length=1374>\n",
       "63050395065900021\n",
       "63050395065900064\n",
       "63050395065900084\n",
       "63050395065900085\n",
       "63050395065900097\n",
       "63050395065900106\n",
       "63050395065900107\n",
       "63050395065900123\n",
       "63050395065900129\n",
       "63050395065900158\n",
       "63050395065900165\n",
       "63050395065900740\n",
       "              ...\n",
       "63050398799188411\n",
       "63050398799219196\n",
       "63050398799221372\n",
       "63050398799222680\n",
       "63050399461528711\n",
       "63050399468959060\n",
       "63050399472062815\n",
       "63050399475822670\n",
       "63050399476342617\n",
       "63050399478305210\n",
       "63050399487806500\n",
       "63050399494178184"
      ]
     },
     "execution_count": 79,
     "metadata": {},
     "output_type": "execute_result"
    }
   ],
   "source": [
    "from astropy.table import Table, Column\n",
    "data = Table.read(\"./BHM_cartons_XMMLSS_v1.fits\", format='fits')\n",
    "np.unique(data['catalogid'][(data['category'] == 'science')])"
   ]
  },
  {
   "cell_type": "code",
   "execution_count": 31,
   "metadata": {},
   "outputs": [
    {
     "data": {
      "text/html": [
       "&lt;Column name=&apos;value&apos; dtype=&apos;float32&apos; length=2&gt;\n",
       "<table>\n",
       "<tr><td>1000.0</td></tr>\n",
       "<tr><td>nan</td></tr>\n",
       "</table>"
      ],
      "text/plain": [
       "<Column name='value' dtype='float32' length=2>\n",
       "1000.0\n",
       "   nan"
      ]
     },
     "execution_count": 31,
     "metadata": {},
     "output_type": "execute_result"
    }
   ],
   "source": [
    "np.unique(data['value'])"
   ]
  },
  {
   "cell_type": "code",
   "execution_count": 43,
   "metadata": {},
   "outputs": [
    {
     "name": "stderr",
     "output_type": "stream",
     "text": [
      "\u001b[1;33m[WARNING]: \u001b[0m\u001b[0;39m`np.unicode` is a deprecated alias for `np.compat.unicode`. To silence this warning, use `np.compat.unicode` by itself. In the likely event your code does not need to work on Python 2 you can use the builtin `str` for which `np.compat.unicode` is itself an alias. Doing this will not modify any behaviour and is safe. If you specifically wanted the numpy scalar type, use `np.str_` here.\u001b[0m \u001b[0;36m(DeprecationWarning)\u001b[0m\n"
     ]
    },
    {
     "data": {
      "text/plain": [
       "'0.5.3'"
      ]
     },
     "execution_count": 43,
     "metadata": {},
     "output_type": "execute_result"
    }
   ],
   "source": [
    "np.unicode(\"0.5.3\")"
   ]
  },
  {
   "cell_type": "code",
   "execution_count": 9,
   "metadata": {},
   "outputs": [
    {
     "name": "stderr",
     "output_type": "stream",
     "text": [
      "\u001b[1;33m[WARNING]: \u001b[0m\u001b[0;39mcatalog_to_legacy_survey_dr10a: cannot find related table 'legacy_survey_dr10a'\u001b[0m \u001b[0;36m(SdssdbUserWarning)\u001b[0m\n"
     ]
    },
    {
     "data": {
      "text/plain": [
       "True"
      ]
     },
     "execution_count": 9,
     "metadata": {},
     "output_type": "execute_result"
    }
   ],
   "source": [
    "#catalogdb for redshifts?\n",
    "\n",
    "import pandas as pd\n",
    "import numpy as np\n",
    "from sdssdb.peewee.sdss5db import catalogdb\n",
    "# connect to catalogdb\n",
    "catalogdb.database.connect_from_parameters(user='sdss_user', password='4-replicant',\n",
    "                                          host='localhost',\n",
    "                                          port=7500)"
   ]
  },
  {
   "cell_type": "code",
   "execution_count": null,
   "metadata": {},
   "outputs": [],
   "source": [
    "catalogdb.SDSS"
   ]
  },
  {
   "cell_type": "code",
   "execution_count": 15,
   "metadata": {},
   "outputs": [],
   "source": [
    "\n",
    "query = (catalogdb..select(catalogdb.SDSS_DR16_SpecObj.ra,\n",
    "                                       catalogdb.SDSS_DR16_SpecObj.dec,\n",
    "                                       catalogdb.SDSS_DR16_SpecObj.z)\n",
    "                                .where(catalogdb.SDSS_DR16_SpecObj.cone_search(racen,\n",
    "                                                                      deccen,\n",
    "                                                                      r_search)))\n",
    "\n",
    "\n",
    "# get the ras, decs and DR2 IDs for the query\n",
    "ras, decs, zs = map(list, zip(*list(query.tuples())))"
   ]
  },
  {
   "cell_type": "code",
   "execution_count": 16,
   "metadata": {},
   "outputs": [
    {
     "data": {
      "text/plain": [
       "3686"
      ]
     },
     "execution_count": 16,
     "metadata": {},
     "output_type": "execute_result"
    }
   ],
   "source": [
    "len(decs)"
   ]
  },
  {
   "cell_type": "code",
   "execution_count": null,
   "metadata": {},
   "outputs": [],
   "source": []
  }
 ],
 "metadata": {
  "kernelspec": {
   "display_name": "Python 3 (ipykernel)",
   "language": "python",
   "name": "python3"
  },
  "language_info": {
   "codemirror_mode": {
    "name": "ipython",
    "version": 3
   },
   "file_extension": ".py",
   "mimetype": "text/x-python",
   "name": "python",
   "nbconvert_exporter": "python",
   "pygments_lexer": "ipython3",
   "version": "3.8.17"
  }
 },
 "nbformat": 4,
 "nbformat_minor": 4
}
