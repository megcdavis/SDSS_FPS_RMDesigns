{
 "cells": [
  {
   "cell_type": "code",
   "execution_count": 1,
   "metadata": {},
   "outputs": [
    {
     "data": {
      "text/plain": [
       "True"
      ]
     },
     "execution_count": 1,
     "metadata": {},
     "output_type": "execute_result"
    }
   ],
   "source": [
    "from sdssdb.peewee.sdss5db import targetdb\n",
    "\n",
    "# connect to targetdb\n",
    "targetdb.database.connect_from_parameters(user='sdss_user', password='4-replicant',\n",
    "                                          host='localhost',\n",
    "                                          port=7500)"
   ]
  },
  {
   "cell_type": "code",
   "execution_count": 37,
   "metadata": {},
   "outputs": [],
   "source": [
    "from peewee import *\n",
    "import numpy as np\n",
    "\n",
    "##MEG & JON: 3 changes to be made\n",
    "# set search radius based on field size for APO or LCO\n",
    "observatory = 'APO'\n",
    "if observatory == 'APO':\n",
    "    r_search = 1.49\n",
    "else:\n",
    "    r_search = 0.95\n",
    "skies = 50\n",
    "# specify the field center and position angle\n",
    "#MEG & JON: CHANGE FOR FIELD\n",
    "#from: https://wiki.sdss.org/display/BHM/Reverberation+Mapping\n",
    "##XMM LSS #s\n",
    "racen = 35.708333\n",
    "deccen = -5.050000\n",
    "fieldname = \"XMMLSS\"\n",
    "##SDSS-RM\n",
    "# racen = 213.7041666\n",
    "# deccen = 53.083333\n",
    "# fieldname = \"RM\"\n",
    "# ##COSMOS\n",
    "# racen = 10.0*15\n",
    "# deccen = 2.20\n",
    "# fieldname = \"COSMOS\""
   ]
  },
  {
   "cell_type": "code",
   "execution_count": 38,
   "metadata": {},
   "outputs": [],
   "source": [
    "cartons = ['bhm_rm_known_spec', 'bhm_rm_core','bhm_rm_var', 'bhm_rm_ancillary','ops_std_eboss']#'ops_sky_apogee',\n",
    "plan = '0.5.0'\n",
    "# get all of the targets in the commissioning carton near the field center\n",
    "all_targs = (targetdb.Target.select(targetdb.Target.catalogid,\n",
    "                                   targetdb.Target.ra,\n",
    "                                   targetdb.Target.dec,\n",
    "                                   targetdb.Target.pk,\n",
    "                                   targetdb.CartonToTarget.priority,\n",
    "                                   targetdb.CartonToTarget.value,\n",
    "                                   targetdb.Cadence.label,\n",
    "                                   targetdb.Carton.carton,\n",
    "                                   targetdb.CartonToTarget.pk,\n",
    "                                   targetdb.Magnitude.g,\n",
    "                                   targetdb.Magnitude.r,\n",
    "                                   targetdb.Magnitude.i,\n",
    "                                   targetdb.Magnitude.bp,\n",
    "                                   targetdb.Magnitude.gaia_g,\n",
    "                                   targetdb.Magnitude.rp,\n",
    "                                   targetdb.Magnitude.h,\n",
    "                                   targetdb.Category.label,\n",
    "                                   targetdb.Carton.program,\n",
    "                                   targetdb.Instrument.label)\n",
    "                    .join(targetdb.CartonToTarget)\n",
    "                    .join(targetdb.Cadence, JOIN.LEFT_OUTER)\n",
    "                    .switch(targetdb.CartonToTarget)\n",
    "                    .join(targetdb.Carton)\n",
    "                    .join(targetdb.Category)\n",
    "                    .switch(targetdb.CartonToTarget)\n",
    "                    .join(targetdb.Magnitude, JOIN.LEFT_OUTER)\n",
    "                    .switch(targetdb.CartonToTarget)\n",
    "                    .join(targetdb.Instrument)\n",
    "                    .where((targetdb.Carton.carton.in_(cartons)) &\n",
    "                           (targetdb.Target.cone_search(racen, deccen, r_search))\n",
    "                           ))\n",
    "\n",
    "ops_carton = ['ops_sky_boss']\n",
    "ops_plan = '0.1.0'\n",
    "ops_query = (targetdb.Target.select(targetdb.Target.catalogid,\n",
    "                                   targetdb.Target.ra,\n",
    "                                   targetdb.Target.dec,\n",
    "                                   targetdb.Target.pk,\n",
    "                                   targetdb.CartonToTarget.priority,\n",
    "                                   targetdb.CartonToTarget.value,\n",
    "                                   targetdb.Cadence.label,\n",
    "                                   targetdb.Carton.carton,\n",
    "                                   targetdb.CartonToTarget.pk,\n",
    "                                   targetdb.Magnitude.g,\n",
    "                                   targetdb.Magnitude.r,\n",
    "                                   targetdb.Magnitude.i,\n",
    "                                   targetdb.Magnitude.bp,\n",
    "                                   targetdb.Magnitude.gaia_g,\n",
    "                                   targetdb.Magnitude.rp,\n",
    "                                   targetdb.Magnitude.h,\n",
    "                                   targetdb.Category.label,\n",
    "                                   targetdb.Carton.program,\n",
    "                                   targetdb.Instrument.label)\n",
    "                    .join(targetdb.CartonToTarget)\n",
    "                    .join(targetdb.Cadence, JOIN.LEFT_OUTER)\n",
    "                    .switch(targetdb.CartonToTarget)\n",
    "                    .join(targetdb.Carton)\n",
    "                    .join(targetdb.Category)\n",
    "                    .switch(targetdb.CartonToTarget)\n",
    "                    .join(targetdb.Magnitude, JOIN.LEFT_OUTER)\n",
    "                    .switch(targetdb.CartonToTarget)\n",
    "                    .join(targetdb.Instrument)\n",
    "                    .where((targetdb.Carton.carton.in_(ops_carton)) &\n",
    "                           (targetdb.Target.cone_search(racen, deccen, r_search))\n",
    "                           ))\n",
    "\n",
    "# grab the results\n",
    "catalogid, ra, dec, target_pk, priority, value, cadences, carton, carton_to_target_pk, g, r, i, bp, gaia_g, rp, h, category, program, instrument  = map(list, zip(*list(all_targs.tuples())))\n",
    "catalogid = np.array(catalogid, dtype=np.int64)\n",
    "ra = np.array(ra)\n",
    "dec = np.array(dec)\n",
    "target_pk = np.array(target_pk, dtype=np.int64)\n",
    "priority = np.array(priority)\n",
    "value = np.array(value)\n",
    "carton = np.array(carton)\n",
    "carton_to_target_pk = np.array(carton_to_target_pk)\n",
    "magnitudes = np.zeros((len(g),7))\n",
    "magnitudes[:, 0] = g\n",
    "magnitudes[:, 1] = r\n",
    "magnitudes[:, 2] = i\n",
    "magnitudes[:, 3] = bp\n",
    "magnitudes[:, 4] = gaia_g\n",
    "magnitudes[:, 5] = rp\n",
    "magnitudes[:, 6] = h\n",
    "category = np.array(category)\n",
    "program = np.array(program)\n",
    "instrument = np.array(instrument)\n",
    "\n",
    "# grab the results, but for the sky stuff\n",
    "catalogid2, ra2, dec2, target_pk2, priority2, value2, cadences2, carton2, carton_to_target_pk2, g2, r2, i2, bp2, gaia_g2, rp2, h2, category2, program2, instrument2 = map(list, zip(*list(ops_query.tuples())))\n",
    "catalogid2 = np.array(catalogid2, dtype=np.int64)\n",
    "ra2 = np.array(ra2)\n",
    "dec2 = np.array(dec2)\n",
    "target_pk2 = np.array(target_pk2, dtype=np.int64)\n",
    "priority2 = np.array(priority2)\n",
    "value2 = np.array(value2)\n",
    "carton2 = np.array(carton2)\n",
    "carton_to_target_pk2 = np.array(carton_to_target_pk2)\n",
    "magnitudes2 = np.zeros((len(g2),7))\n",
    "magnitudes2[:, 0] = g2\n",
    "magnitudes2[:, 1] = r2\n",
    "magnitudes2[:, 2] = i2\n",
    "magnitudes2[:, 3] = bp2\n",
    "magnitudes2[:, 4] = gaia_g2\n",
    "magnitudes2[:, 5] = rp2\n",
    "magnitudes2[:, 6] = h2\n",
    "category2 = np.array(category2)\n",
    "program2 = np.array(program2)\n",
    "instrument2 = np.array(instrument2)\n",
    "\n",
    "\n",
    "#append together\n",
    "catalogid = np.append(catalogid, catalogid2)\n",
    "ra = np.append(ra, ra2)\n",
    "dec = np.append(dec, dec2)\n",
    "target_pk = np.append(target_pk, target_pk2)\n",
    "priority = np.append(priority, priority2)\n",
    "value = np.append(value, value2)\n",
    "carton = np.append(carton, carton2)\n",
    "carton_to_target_pk = np.append(carton_to_target_pk, carton_to_target_pk2)\n",
    "g = np.append(g, g2)\n",
    "r = np.append(r, r2)\n",
    "i = np.append(i, i2)\n",
    "bp = np.append(bp, bp2)\n",
    "gaia_g = np.append(gaia_g, gaia_g2)\n",
    "rp = np.append(rp, rp2)\n",
    "h = np.append(h, h2)\n",
    "\n",
    "magnitudes = np.append(magnitudes, magnitudes2)\n",
    "program = np.append(program, program2)\n",
    "category = np.append(category, category2)\n",
    "instrument = np.append(instrument, instrument2)\n",
    "tag = np.full(len(catalogid), '0.3.5')\n",
    "plan = np.full(len(catalogid), '0.5.4')\n",
    "\n",
    "# specify the instrument for each target\n",
    "# instrument = np.zeros(len(carton), dtype='<U10')\n",
    "\n",
    "# #MEG & JON: CHANGE FOR FIELD\n",
    "# instrument[carton == 'ops_sky_boss'] = 'BOSS'\n",
    "# instrument[carton == 'ops_std_eboss'] = 'BOSS'\n",
    "# instrument[carton == 'bhm_rm_known_spec'] = 'BOSS'\n",
    "# instrument[carton == 'bhm_rm_core'] = 'BOSS'\n",
    "# instrument[carton == 'bhm_rm_var'] = 'BOSS'\n",
    "# instrument[carton == 'bhm_rm_ancillary'] = 'BOSS'"
   ]
  },
  {
   "cell_type": "code",
   "execution_count": 39,
   "metadata": {},
   "outputs": [
    {
     "name": "stdout",
     "output_type": "stream",
     "text": [
      "<class 'numpy.str_'>\n"
     ]
    }
   ],
   "source": [
    "print(type(category[0]))"
   ]
  },
  {
   "cell_type": "code",
   "execution_count": 40,
   "metadata": {},
   "outputs": [],
   "source": [
    "from astropy.table import Table, Column\n",
    "tab = Table()\n",
    "tab.add_column(Column(name=\"catalogid\", data=catalogid, dtype='int64'))\n",
    "tab.add_column(Column(name=\"ra\", data=ra, dtype='float32'))\n",
    "tab.add_column(Column(name=\"dec\", data=dec, dtype='float32'))\n",
    "tab.add_column(Column(name=\"target_pk\", data=target_pk, dtype='int64'))\n",
    "tab.add_column(Column(name=\"priority\", data=priority, dtype='float32'))\n",
    "tab.add_column(Column(name=\"value\", data=value, dtype='float32'))\n",
    "tab.add_column(Column(name=\"carton\", data=carton))\n",
    "tab.add_column(Column(name=\"instrument\", data=instrument, dtype='<U10'))\n",
    "tab.add_column(Column(name=\"carton_to_target_pk\", data=carton_to_target_pk, dtype='int64'))\n",
    "tab.add_column(Column(name=\"g\", data=g, dtype='float32'))\n",
    "tab.add_column(Column(name=\"r\", data=r, dtype='float32'))\n",
    "tab.add_column(Column(name=\"i\", data=i, dtype='float32'))\n",
    "tab.add_column(Column(name=\"bp\", data=bp, dtype='float32'))\n",
    "tab.add_column(Column(name=\"gaia_g\", data=gaia_g, dtype='float32'))\n",
    "tab.add_column(Column(name=\"rp\", data=rp, dtype='float32'))\n",
    "tab.add_column(Column(name=\"h\", data=h, dtype='float32'))\n",
    "tab.add_column(Column(name=\"category\", data=category))\n",
    "tab.add_column(Column(name=\"tag\", data=tag, dtype='<U10'))\n",
    "tab.add_column(Column(name=\"plan\", data=plan, dtype='<U10'))\n",
    "tab.add_column(Column(name=\"program\", data=program))\n",
    "tab.write(\"BHM_cartons_{}_survey_v0.5.fits\".format(fieldname), format='fits', overwrite=True)"
   ]
  },
  {
   "cell_type": "code",
   "execution_count": 41,
   "metadata": {},
   "outputs": [
    {
     "data": {
      "text/html": [
       "<i>Table length=3170</i>\n",
       "<table id=\"table140416336045200\" class=\"table-striped table-bordered table-condensed\">\n",
       "<thead><tr><th>catalogid</th><th>ra</th><th>dec</th><th>target_pk</th><th>priority</th><th>value</th><th>carton</th><th>instrument</th><th>carton_to_target_pk</th><th>g</th><th>r</th><th>i</th><th>bp</th><th>gaia_g</th><th>rp</th><th>h</th><th>category</th><th>tag</th><th>plan</th><th>program</th></tr></thead>\n",
       "<thead><tr><th>int64</th><th>float32</th><th>float32</th><th>int64</th><th>float32</th><th>float32</th><th>bytes17</th><th>bytes10</th><th>int64</th><th>float32</th><th>float32</th><th>float32</th><th>float32</th><th>float32</th><th>float32</th><th>float32</th><th>bytes13</th><th>bytes10</th><th>bytes10</th><th>bytes7</th></tr></thead>\n",
       "<tr><td>27021597934348191</td><td>35.066505</td><td>-6.148681</td><td>246495109</td><td>5300.0</td><td>nan</td><td>ops_std_eboss</td><td>BOSS</td><td>462294627</td><td>16.484657</td><td>16.262238</td><td>16.135529</td><td>16.449074</td><td>16.222317</td><td>15.823082</td><td>15.021</td><td>standard_boss</td><td>0.3.5</td><td>0.5.4</td><td>ops_std</td></tr>\n",
       "<tr><td>27021597934353365</td><td>36.391823</td><td>-5.9646945</td><td>246495180</td><td>5300.0</td><td>nan</td><td>ops_std_eboss</td><td>BOSS</td><td>462295618</td><td>16.88191</td><td>16.625328</td><td>16.549017</td><td>16.848253</td><td>16.623844</td><td>16.234093</td><td>15.579</td><td>standard_boss</td><td>0.3.5</td><td>0.5.4</td><td>ops_std</td></tr>\n",
       "<tr><td>27021597934353857</td><td>36.73269</td><td>-5.76863</td><td>246495188</td><td>5300.0</td><td>nan</td><td>ops_std_eboss</td><td>BOSS</td><td>462295620</td><td>16.748152</td><td>16.435757</td><td>16.332052</td><td>16.70827</td><td>16.437359</td><td>16.004848</td><td>15.241</td><td>standard_boss</td><td>0.3.5</td><td>0.5.4</td><td>ops_std</td></tr>\n",
       "<tr><td>27021597934475735</td><td>34.675846</td><td>-4.939207</td><td>246496937</td><td>5300.0</td><td>nan</td><td>ops_std_eboss</td><td>BOSS</td><td>462292772</td><td>17.113632</td><td>16.831245</td><td>16.79603</td><td>17.083937</td><td>16.83837</td><td>16.41806</td><td>15.663</td><td>standard_boss</td><td>0.3.5</td><td>0.5.4</td><td>ops_std</td></tr>\n",
       "<tr><td>27021597934476383</td><td>34.80909</td><td>-4.493158</td><td>246496945</td><td>5300.0</td><td>nan</td><td>ops_std_eboss</td><td>BOSS</td><td>462292872</td><td>16.641798</td><td>16.423796</td><td>16.310085</td><td>16.622835</td><td>16.375942</td><td>15.988426</td><td>15.29</td><td>standard_boss</td><td>0.3.5</td><td>0.5.4</td><td>ops_std</td></tr>\n",
       "<tr><td>27021597934477731</td><td>35.513508</td><td>-4.5761</td><td>246496963</td><td>5300.0</td><td>nan</td><td>ops_std_eboss</td><td>BOSS</td><td>462293873</td><td>16.417242</td><td>16.105057</td><td>15.997835</td><td>16.373522</td><td>16.111666</td><td>15.68103</td><td>14.844</td><td>standard_boss</td><td>0.3.5</td><td>0.5.4</td><td>ops_std</td></tr>\n",
       "<tr><td>27021597934479325</td><td>36.482265</td><td>-5.553629</td><td>246496990</td><td>5300.0</td><td>nan</td><td>ops_std_eboss</td><td>BOSS</td><td>462295706</td><td>16.441372</td><td>16.057964</td><td>15.917111</td><td>16.37014</td><td>16.071367</td><td>15.587784</td><td>14.733</td><td>standard_boss</td><td>0.3.5</td><td>0.5.4</td><td>ops_std</td></tr>\n",
       "<tr><td>27021597934480917</td><td>35.747036</td><td>-4.5849276</td><td>246497004</td><td>5300.0</td><td>nan</td><td>ops_std_eboss</td><td>BOSS</td><td>462293874</td><td>16.856415</td><td>16.489721</td><td>16.335539</td><td>16.804138</td><td>16.49805</td><td>16.027735</td><td>15.328</td><td>standard_boss</td><td>0.3.5</td><td>0.5.4</td><td>ops_std</td></tr>\n",
       "<tr><td>27021597934481174</td><td>36.09843</td><td>-4.6852045</td><td>246497008</td><td>5300.0</td><td>nan</td><td>ops_std_eboss</td><td>BOSS</td><td>462293879</td><td>17.097435</td><td>16.872766</td><td>16.716433</td><td>17.076422</td><td>16.81653</td><td>16.41665</td><td>15.79</td><td>standard_boss</td><td>0.3.5</td><td>0.5.4</td><td>ops_std</td></tr>\n",
       "<tr><td>27021597934482365</td><td>36.505337</td><td>-4.380987</td><td>246497023</td><td>5300.0</td><td>nan</td><td>ops_std_eboss</td><td>BOSS</td><td>462292877</td><td>17.011042</td><td>16.652153</td><td>16.54198</td><td>16.958176</td><td>16.676657</td><td>16.224655</td><td>15.32</td><td>standard_boss</td><td>0.3.5</td><td>0.5.4</td><td>ops_std</td></tr>\n",
       "<tr><td>...</td><td>...</td><td>...</td><td>...</td><td>...</td><td>...</td><td>...</td><td>...</td><td>...</td><td>...</td><td>...</td><td>...</td><td>...</td><td>...</td><td>...</td><td>...</td><td>...</td><td>...</td><td>...</td><td>...</td></tr>\n",
       "<tr><td>7616061149</td><td>35.74402</td><td>-3.8601732</td><td>220472275</td><td>5000.0</td><td>nan</td><td>ops_sky_boss</td><td>BOSS</td><td>445409711</td><td>nan</td><td>nan</td><td>nan</td><td>nan</td><td>nan</td><td>nan</td><td>nan</td><td>sky_boss</td><td>0.3.5</td><td>0.5.4</td><td>ops_sky</td></tr>\n",
       "<tr><td>7616061154</td><td>35.566864</td><td>-3.8987293</td><td>220472276</td><td>5000.0</td><td>nan</td><td>ops_sky_boss</td><td>BOSS</td><td>445409712</td><td>nan</td><td>nan</td><td>nan</td><td>nan</td><td>nan</td><td>nan</td><td>nan</td><td>sky_boss</td><td>0.3.5</td><td>0.5.4</td><td>ops_sky</td></tr>\n",
       "<tr><td>7616061164</td><td>35.617676</td><td>-3.804095</td><td>220472277</td><td>5000.0</td><td>nan</td><td>ops_sky_boss</td><td>BOSS</td><td>445409713</td><td>nan</td><td>nan</td><td>nan</td><td>nan</td><td>nan</td><td>nan</td><td>nan</td><td>sky_boss</td><td>0.3.5</td><td>0.5.4</td><td>ops_sky</td></tr>\n",
       "<tr><td>7616061187</td><td>35.785217</td><td>-3.7480204</td><td>220472278</td><td>5000.0</td><td>nan</td><td>ops_sky_boss</td><td>BOSS</td><td>445409714</td><td>nan</td><td>nan</td><td>nan</td><td>nan</td><td>nan</td><td>nan</td><td>nan</td><td>sky_boss</td><td>0.3.5</td><td>0.5.4</td><td>ops_sky</td></tr>\n",
       "<tr><td>7616061203</td><td>36.162872</td><td>-3.8286288</td><td>220472279</td><td>5000.0</td><td>nan</td><td>ops_sky_boss</td><td>BOSS</td><td>445409715</td><td>nan</td><td>nan</td><td>nan</td><td>nan</td><td>nan</td><td>nan</td><td>nan</td><td>sky_boss</td><td>0.3.5</td><td>0.5.4</td><td>ops_sky</td></tr>\n",
       "<tr><td>7616061220</td><td>36.158752</td><td>-3.7059667</td><td>220472280</td><td>5000.0</td><td>nan</td><td>ops_sky_boss</td><td>BOSS</td><td>445409716</td><td>nan</td><td>nan</td><td>nan</td><td>nan</td><td>nan</td><td>nan</td><td>nan</td><td>sky_boss</td><td>0.3.5</td><td>0.5.4</td><td>ops_sky</td></tr>\n",
       "<tr><td>7616061263</td><td>36.102448</td><td>-3.6557386</td><td>220472285</td><td>5000.0</td><td>nan</td><td>ops_sky_boss</td><td>BOSS</td><td>445409721</td><td>nan</td><td>nan</td><td>nan</td><td>nan</td><td>nan</td><td>nan</td><td>nan</td><td>sky_boss</td><td>0.3.5</td><td>0.5.4</td><td>ops_sky</td></tr>\n",
       "<tr><td>7616061329</td><td>35.487213</td><td>-3.779562</td><td>220472289</td><td>5000.0</td><td>nan</td><td>ops_sky_boss</td><td>BOSS</td><td>445409725</td><td>nan</td><td>nan</td><td>nan</td><td>nan</td><td>nan</td><td>nan</td><td>nan</td><td>sky_boss</td><td>0.3.5</td><td>0.5.4</td><td>ops_sky</td></tr>\n",
       "<tr><td>7616061355</td><td>35.525665</td><td>-3.6720917</td><td>220472290</td><td>5000.0</td><td>nan</td><td>ops_sky_boss</td><td>BOSS</td><td>445409726</td><td>nan</td><td>nan</td><td>nan</td><td>nan</td><td>nan</td><td>nan</td><td>nan</td><td>sky_boss</td><td>0.3.5</td><td>0.5.4</td><td>ops_sky</td></tr>\n",
       "<tr><td>7616061363</td><td>35.775604</td><td>-3.5973375</td><td>220472291</td><td>5000.0</td><td>nan</td><td>ops_sky_boss</td><td>BOSS</td><td>445409727</td><td>nan</td><td>nan</td><td>nan</td><td>nan</td><td>nan</td><td>nan</td><td>nan</td><td>sky_boss</td><td>0.3.5</td><td>0.5.4</td><td>ops_sky</td></tr>\n",
       "</table>"
      ],
      "text/plain": [
       "<Table length=3170>\n",
       "    catalogid         ra       dec     target_pk ...   tag     plan  program\n",
       "      int64        float32   float32     int64   ... bytes10 bytes10  bytes7\n",
       "----------------- --------- ---------- --------- ... ------- ------- -------\n",
       "27021597934348191 35.066505  -6.148681 246495109 ...   0.3.5   0.5.4 ops_std\n",
       "27021597934353365 36.391823 -5.9646945 246495180 ...   0.3.5   0.5.4 ops_std\n",
       "27021597934353857  36.73269   -5.76863 246495188 ...   0.3.5   0.5.4 ops_std\n",
       "27021597934475735 34.675846  -4.939207 246496937 ...   0.3.5   0.5.4 ops_std\n",
       "27021597934476383  34.80909  -4.493158 246496945 ...   0.3.5   0.5.4 ops_std\n",
       "27021597934477731 35.513508    -4.5761 246496963 ...   0.3.5   0.5.4 ops_std\n",
       "27021597934479325 36.482265  -5.553629 246496990 ...   0.3.5   0.5.4 ops_std\n",
       "27021597934480917 35.747036 -4.5849276 246497004 ...   0.3.5   0.5.4 ops_std\n",
       "27021597934481174  36.09843 -4.6852045 246497008 ...   0.3.5   0.5.4 ops_std\n",
       "27021597934482365 36.505337  -4.380987 246497023 ...   0.3.5   0.5.4 ops_std\n",
       "              ...       ...        ...       ... ...     ...     ...     ...\n",
       "       7616061149  35.74402 -3.8601732 220472275 ...   0.3.5   0.5.4 ops_sky\n",
       "       7616061154 35.566864 -3.8987293 220472276 ...   0.3.5   0.5.4 ops_sky\n",
       "       7616061164 35.617676  -3.804095 220472277 ...   0.3.5   0.5.4 ops_sky\n",
       "       7616061187 35.785217 -3.7480204 220472278 ...   0.3.5   0.5.4 ops_sky\n",
       "       7616061203 36.162872 -3.8286288 220472279 ...   0.3.5   0.5.4 ops_sky\n",
       "       7616061220 36.158752 -3.7059667 220472280 ...   0.3.5   0.5.4 ops_sky\n",
       "       7616061263 36.102448 -3.6557386 220472285 ...   0.3.5   0.5.4 ops_sky\n",
       "       7616061329 35.487213  -3.779562 220472289 ...   0.3.5   0.5.4 ops_sky\n",
       "       7616061355 35.525665 -3.6720917 220472290 ...   0.3.5   0.5.4 ops_sky\n",
       "       7616061363 35.775604 -3.5973375 220472291 ...   0.3.5   0.5.4 ops_sky"
      ]
     },
     "execution_count": 41,
     "metadata": {},
     "output_type": "execute_result"
    }
   ],
   "source": [
    "data = Table.read(\"./BHM_cartons_{}_survey_v0.5.fits\".format(fieldname), format='fits')\n",
    "data"
   ]
  },
  {
   "cell_type": "code",
   "execution_count": 31,
   "metadata": {},
   "outputs": [
    {
     "data": {
      "text/html": [
       "&lt;Column name=&apos;value&apos; dtype=&apos;float32&apos; length=2&gt;\n",
       "<table>\n",
       "<tr><td>1000.0</td></tr>\n",
       "<tr><td>nan</td></tr>\n",
       "</table>"
      ],
      "text/plain": [
       "<Column name='value' dtype='float32' length=2>\n",
       "1000.0\n",
       "   nan"
      ]
     },
     "execution_count": 31,
     "metadata": {},
     "output_type": "execute_result"
    }
   ],
   "source": [
    "np.unique(data['value'])"
   ]
  },
  {
   "cell_type": "code",
   "execution_count": 43,
   "metadata": {},
   "outputs": [
    {
     "name": "stderr",
     "output_type": "stream",
     "text": [
      "\u001b[1;33m[WARNING]: \u001b[0m\u001b[0;39m`np.unicode` is a deprecated alias for `np.compat.unicode`. To silence this warning, use `np.compat.unicode` by itself. In the likely event your code does not need to work on Python 2 you can use the builtin `str` for which `np.compat.unicode` is itself an alias. Doing this will not modify any behaviour and is safe. If you specifically wanted the numpy scalar type, use `np.str_` here.\u001b[0m \u001b[0;36m(DeprecationWarning)\u001b[0m\n"
     ]
    },
    {
     "data": {
      "text/plain": [
       "'0.5.3'"
      ]
     },
     "execution_count": 43,
     "metadata": {},
     "output_type": "execute_result"
    }
   ],
   "source": [
    "np.unicode(\"0.5.3\")"
   ]
  },
  {
   "cell_type": "code",
   "execution_count": null,
   "metadata": {},
   "outputs": [],
   "source": []
  }
 ],
 "metadata": {
  "kernelspec": {
   "display_name": "Python 3",
   "language": "python",
   "name": "python3"
  },
  "language_info": {
   "codemirror_mode": {
    "name": "ipython",
    "version": 3
   },
   "file_extension": ".py",
   "mimetype": "text/x-python",
   "name": "python",
   "nbconvert_exporter": "python",
   "pygments_lexer": "ipython3",
   "version": "3.8.5"
  }
 },
 "nbformat": 4,
 "nbformat_minor": 4
}
