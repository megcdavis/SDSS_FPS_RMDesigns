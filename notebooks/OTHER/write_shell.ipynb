{
 "cells": [
  {
   "cell_type": "code",
   "execution_count": 1,
   "metadata": {},
   "outputs": [
    {
     "name": "stdout",
     "output_type": "stream",
     "text": [
      "[  0.    0.5   1.    1.5   2.    2.5   3.    3.5   4.    4.5   5.    5.5\n",
      "   6.    6.5   7.    7.5   8.    8.5   9.    9.5  10.   10.5  11.   11.5\n",
      "  12.   12.5  13.   13.5  14.   14.5  15.   15.5  16.   16.5  17.   17.5\n",
      "  18.   18.5  19.   19.5  20.   20.5  21.   21.5  22.   22.5  23.   23.5\n",
      "  24.   24.5  25.   25.5  26.   26.5  27.   27.5  28.   28.5  29.   29.5\n",
      "  30.   30.5  31.   31.5  32.   32.5  33.   33.5  34.   34.5  35.   35.5\n",
      "  36.   36.5  37.   37.5  38.   38.5  39.   39.5  40.   40.5  41.   41.5\n",
      "  42.   42.5  43.   43.5  44.   44.5  45.   45.5  46.   46.5  47.   47.5\n",
      "  48.   48.5  49.   49.5  50.   50.5  51.   51.5  52.   52.5  53.   53.5\n",
      "  54.   54.5  55.   55.5  56.   56.5  57.   57.5  58.   58.5  59.   59.5\n",
      "  60.   60.5  61.   61.5  62.   62.5  63.   63.5  64.   64.5  65.   65.5\n",
      "  66.   66.5  67.   67.5  68.   68.5  69.   69.5  70.   70.5  71.   71.5\n",
      "  72.   72.5  73.   73.5  74.   74.5  75.   75.5  76.   76.5  77.   77.5\n",
      "  78.   78.5  79.   79.5  80.   80.5  81.   81.5  82.   82.5  83.   83.5\n",
      "  84.   84.5  85.   85.5  86.   86.5  87.   87.5  88.   88.5  89.   89.5\n",
      "  90.   90.5  91.   91.5  92.   92.5  93.   93.5  94.   94.5  95.   95.5\n",
      "  96.   96.5  97.   97.5  98.   98.5  99.   99.5 100.  100.5 101.  101.5\n",
      " 102.  102.5 103.  103.5 104.  104.5 105.  105.5 106.  106.5 107.  107.5\n",
      " 108.  108.5 109.  109.5 110.  110.5 111.  111.5 112.  112.5 113.  113.5\n",
      " 114.  114.5 115.  115.5 116.  116.5 117.  117.5 118.  118.5 119.  119.5\n",
      " 120.  120.5 121.  121.5 122.  122.5 123.  123.5 124.  124.5 125.  125.5\n",
      " 126.  126.5 127.  127.5 128.  128.5 129.  129.5 130.  130.5 131.  131.5\n",
      " 132.  132.5 133.  133.5 134.  134.5 135.  135.5 136.  136.5 137.  137.5\n",
      " 138.  138.5 139.  139.5 140.  140.5 141.  141.5 142.  142.5 143.  143.5\n",
      " 144.  144.5 145.  145.5 146.  146.5 147.  147.5 148.  148.5 149.  149.5\n",
      " 150.  150.5 151.  151.5 152.  152.5 153.  153.5 154.  154.5 155.  155.5\n",
      " 156.  156.5 157.  157.5 158.  158.5 159.  159.5 160.  160.5 161.  161.5\n",
      " 162.  162.5 163.  163.5 164.  164.5 165.  165.5 166.  166.5 167.  167.5\n",
      " 168.  168.5 169.  169.5 170.  170.5 171.  171.5 172.  172.5 173.  173.5\n",
      " 174.  174.5 175.  175.5 176.  176.5 177.  177.5 178.  178.5 179.  179.5\n",
      " 180. ]\n"
     ]
    }
   ],
   "source": [
    "import numpy as np\n",
    "\n",
    "step = 0.5\n",
    "\n",
    "angles = np.arange(0.0, 180.0+step, step)\n",
    "print(angles)"
   ]
  },
  {
   "cell_type": "code",
   "execution_count": 7,
   "metadata": {},
   "outputs": [],
   "source": [
    "# filename = r\"PA_refine.sh\"\n",
    "# f = open(filename, 'w')\n",
    "# for i in angles:\n",
    "#     print(\"python dither_PA_testing.py BHM_cartons_v0.5.fits {} 35.70833 -5.050000\".format(i), file=f)\n",
    "         \n",
    "# f.close()"
   ]
  },
  {
   "cell_type": "code",
   "execution_count": 5,
   "metadata": {},
   "outputs": [],
   "source": [
    "dither_by = 0.067\n",
    "cenra = 35.70833 + dither_by\n",
    "cendec = -5.050000 + (0.5)*dither_by\n",
    "ras = [cenra - (0.25)*dither_by, cenra,  cenra + (0.25)*dither_by]\n",
    "decs =[cendec - (0.25)*dither_by, cendec, cendec + (0.25)*dither_by]\n",
    "\n",
    "\n",
    "filename = r\"dither_additional4.sh\"\n",
    "f = open(filename, 'w')\n",
    "for i in ras:\n",
    "    for j in decs:\n",
    "        print(\"python dither_PA_testing.py BHM_cartons_v0.5.fits 23.0 {} {}\".format(i, j), file=f)\n",
    "         \n",
    "f.close()"
   ]
  },
  {
   "cell_type": "code",
   "execution_count": 8,
   "metadata": {},
   "outputs": [
    {
     "data": {
      "text/plain": [
       "-5.0165"
      ]
     },
     "execution_count": 8,
     "metadata": {},
     "output_type": "execute_result"
    }
   ],
   "source": [
    "cendec+(0.5)*0.067"
   ]
  },
  {
   "cell_type": "code",
   "execution_count": 6,
   "metadata": {},
   "outputs": [],
   "source": [
    "#COSMOS\n",
    "dither_by = 0.067\n",
    "cenra = 150.0 + 0.25*dither_by\n",
    "cendec = 2.20 + 0.5*dither_by\n",
    "ras = [ cenra - (0.25)*dither_by, cenra,  cenra + (0.25)*dither_by]\n",
    "decs = [ cendec - (0.25)*dither_by, cendec,  cendec + (0.25)*dither_by]\n",
    "\n",
    "\n",
    "filename = r\"./COSMOS/COSMOS_dither_136refine3.sh\"\n",
    "f = open(filename, 'w')\n",
    "for i in ras:\n",
    "    for j in decs:\n",
    "        print(\"python dither_PA_testing.py BHM_cartons_COSMOS_v0.5.fits 136.0 {} {}\".format(i, j), file=f)\n",
    "         \n",
    "f.close()"
   ]
  },
  {
   "cell_type": "code",
   "execution_count": 10,
   "metadata": {},
   "outputs": [],
   "source": [
    "#SDSS-RM\n",
    "dither_by = 0.067\n",
    "cenra = 213.7041666 #+ dither_by\n",
    "cendec = 53.083333 #+ 0.5*dither_by\n",
    "#new dithered max known spec field cen for 50.5\n",
    "# cenra = 213.7544166 \n",
    "# cendec = 53.100083\n",
    "#for 25.5:\n",
    "#213.7041666 53.074958\n",
    "ras = [cenra - (0.5)*dither_by, cenra - (0.25)*dither_by, cenra - (1./8.)*dither_by, cenra,  cenra +(1./8.)*dither_by,cenra + (0.25)*dither_by, cenra +(0.5)*dither_by]\n",
    "decs = [cendec - (0.5)*dither_by, cendec -(1./8.)*dither_by,cendec - (0.25)*dither_by, cendec,  cendec + (0.25)*dither_by,cendec + (1./8.)*dither_by,cendec + (0.5)*dither_by,]\n",
    "\n",
    "\n",
    "filename = r\"SDSSRM_dither25REFINED.sh\"\n",
    "f = open(filename, 'w')\n",
    "for i in ras:\n",
    "    for j in decs:\n",
    "        print(\"python dither_PA_testing.py BHM_cartons_RM_v0.5.fits 25.5 {} {}\".format( i, j), file=f)\n",
    "         \n",
    "f.close()"
   ]
  },
  {
   "cell_type": "code",
   "execution_count": null,
   "metadata": {},
   "outputs": [],
   "source": []
  }
 ],
 "metadata": {
  "kernelspec": {
   "display_name": "Python 3",
   "language": "python",
   "name": "python3"
  },
  "language_info": {
   "codemirror_mode": {
    "name": "ipython",
    "version": 3
   },
   "file_extension": ".py",
   "mimetype": "text/x-python",
   "name": "python",
   "nbconvert_exporter": "python",
   "pygments_lexer": "ipython3",
   "version": "3.8.5"
  }
 },
 "nbformat": 4,
 "nbformat_minor": 4
}
