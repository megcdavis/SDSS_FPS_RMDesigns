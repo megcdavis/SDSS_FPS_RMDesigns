{
 "cells": [
  {
   "cell_type": "code",
   "execution_count": 1,
   "metadata": {},
   "outputs": [
    {
     "data": {
      "text/plain": [
       "3170"
      ]
     },
     "execution_count": 1,
     "metadata": {},
     "output_type": "execute_result"
    }
   ],
   "source": [
    "from astropy.table import Table\n",
    "import numpy as np\n",
    "\n",
    "\n",
    "#import the cartons\n",
    "#read in data file\n",
    "#SAVE COLUMNS TO NUMPY ARRAYS\n",
    "cartdata = Table.read(\"./PA_testing/BHM_cartons_v0.5.fits\", format='fits')\n",
    "\n",
    "#the arrays, the only ones we really care about are catid and priority\n",
    "catalogid = np.array(cartdata[\"catalogid\"], dtype=np.int64)\n",
    "ra = np.array(cartdata[\"ra\"])\n",
    "dec = np.array(cartdata[\"dec\"])\n",
    "target_pk = np.array(cartdata[\"target_pk\"], dtype=np.int64)\n",
    "priority = np.array(cartdata[\"priority\"])\n",
    "value = np.array(cartdata[\"value\"])\n",
    "carton = np.array(cartdata[\"carton\"],dtype=str )\n",
    "instrument = np.array(cartdata[\"instrument\"], dtype='<U10')\n",
    "carton_to_target_pk = np.array(cartdata['carton_to_target_pk'])\n",
    "g = np.array(cartdata['g'])\n",
    "r = np.array(cartdata['r'])\n",
    "i = np.array(cartdata['i'])\n",
    "bp = np.array(cartdata['bp'])\n",
    "gaia_g = np.array(cartdata['gaia_g'])\n",
    "rp = np.array(cartdata['rp'])\n",
    "h = np.array(cartdata['h'])\n",
    "len(carton)"
   ]
  },
  {
   "cell_type": "code",
   "execution_count": 2,
   "metadata": {},
   "outputs": [
    {
     "data": {
      "text/plain": [
       "array([], dtype=float32)"
      ]
     },
     "execution_count": 2,
     "metadata": {},
     "output_type": "execute_result"
    }
   ],
   "source": [
    "catid = 27021597934479233\n",
    "RA = 214.143190\n",
    "Dec = 51.980358\n",
    "ra[np.where((ra >= RA-0.5) &(ra <= RA+0.5))]"
   ]
  },
  {
   "cell_type": "code",
   "execution_count": 3,
   "metadata": {},
   "outputs": [
    {
     "name": "stdout",
     "output_type": "stream",
     "text": [
      "------- XMM-LSS Design 1 --------\n",
      "calib:  119\n",
      "science:  364\n",
      "total assignments: 483/500\n",
      "\n",
      "science breakdown\n",
      "known QSOs:  343\n",
      "candidate QSOs:  21\n"
     ]
    }
   ],
   "source": [
    "#import the design file\n",
    "file= \"XMMLSS_design1.fits\"\n",
    "data2 = Table.read(file, hdu = 2, format='fits')\n",
    "data1 = Table.read(file, hdu = 1, format='fits')\n",
    "#make array of what non-knownspec targets were used\n",
    "\n",
    "assigned_other = ((data2['assigned'] == 1) & (data1['category'] == 'science') & (data1['carton'] != 'bhm_rm_known_spec'))\n",
    "assigned_SCIENCEfibers = ((data2['assigned'] == 1) & (data1['category'] == 'science'))\n",
    "assigned_CALIBfibers = ((data2['assigned'] == 1) & ((data1['category'] == 'sky_boss') | (data1['category'] == 'standard_boss')))\n",
    "\n",
    "\n",
    "assigned_known = ((data2['assigned'] == 1) & (data1['carton'] == 'bhm_rm_known_spec'))\n",
    "assigned_core = ((data2['assigned'] == 1) & (data1['carton'] == 'bhm_rm_core'))\n",
    "assigned_var = ((data2['assigned'] == 1) & (data1['carton'] == 'bhm_rm_var'))\n",
    "assigned_ancil = ((data2['assigned'] == 1) & (data1['carton'] == 'bhm_rm_ancillary'))\n",
    "threshold_mask = ((data1['carton'][assigned_SCIENCEfibers] == 'bhm_rm_known_spec') | (data1[\"priority\"][assigned_SCIENCEfibers] <= 950.))\n",
    "\n",
    "\n",
    "print(\"------- XMM-LSS Design 1 --------\")\n",
    "print(\"calib: \", len(data1[assigned_CALIBfibers]))\n",
    "print(\"science: \", len(data1[assigned_SCIENCEfibers]))\n",
    "print(\"total assignments: {}/500\".format(len(data1[assigned_CALIBfibers]) + len(data1[assigned_SCIENCEfibers])))\n",
    "\n",
    "\n",
    "assert len(data1[assigned_other]) == (len(data1[assigned_SCIENCEfibers]) - len(data1[assigned_known])), \"not equal!\"\n",
    "print(\"\")\n",
    "print(\"science breakdown\")\n",
    "# print(\"known spec: \", len(data1[assigned_known]))\n",
    "# print(\"other (var+core+ancil): \",len(data1[assigned_other]))\n",
    "# print(\"var: \", len(data1[assigned_var]))\n",
    "# print(\"core: \", len(data1[assigned_core]))\n",
    "# print(\"ancil: \", len(data1[assigned_ancil]))\n",
    "print(\"known QSOs: \", len(data1['priority'][assigned_SCIENCEfibers][threshold_mask]))\n",
    "print(\"candidate QSOs: \", len(data1['priority'][assigned_SCIENCEfibers][~threshold_mask]))"
   ]
  },
  {
   "cell_type": "code",
   "execution_count": 4,
   "metadata": {},
   "outputs": [
    {
     "name": "stdout",
     "output_type": "stream",
     "text": [
      "unique core priorities:  [ 907.  912.  917.  922.  927.  932.  937.  942.  947. 1012. 1017. 1022.\n",
      " 1027. 1032. 1037. 1042. 1047.]\n",
      "unique var priorities:  [ 908.  913.  918.  923.  928.  933.  938. 1008. 1013. 1018. 1023. 1028.\n",
      " 1033. 1038.]\n",
      "unique ancillary priorities:  [ 904.  909.  914.  919.  924.  929.  934.  939.  944. 1014. 1019. 1024.\n",
      " 1029. 1034. 1039. 1044.]\n"
     ]
    }
   ],
   "source": [
    "#investigate the current priorities of the cartons from the fits file\n",
    "print(\"unique core priorities: \", np.unique(priority[np.where(carton == 'bhm_rm_core')]))\n",
    "print(\"unique var priorities: \", np.unique(priority[np.where(carton == 'bhm_rm_var')]))\n",
    "print(\"unique ancillary priorities: \", np.unique(priority[np.where(carton == 'bhm_rm_ancillary')]))"
   ]
  },
  {
   "cell_type": "code",
   "execution_count": 5,
   "metadata": {},
   "outputs": [
    {
     "name": "stdout",
     "output_type": "stream",
     "text": [
      "unique knownspec priorities:  [ 901.  941.  946. 1001. 1041. 1046.]\n"
     ]
    }
   ],
   "source": [
    "#check known_spec priority to ensure I understand which way it needs to go\n",
    "print(\"unique knownspec priorities: \", np.unique(priority[np.where(carton == 'bhm_rm_known_spec')]))"
   ]
  },
  {
   "cell_type": "code",
   "execution_count": 6,
   "metadata": {},
   "outputs": [
    {
     "name": "stdout",
     "output_type": "stream",
     "text": [
      "unique targ priorities:  priority\n",
      "--------\n",
      "     927\n",
      "     932\n",
      "     937\n",
      "     938\n",
      "     942\n",
      "     947\n",
      "    1013\n",
      "    1022\n",
      "    1027\n",
      "    1032\n",
      "    1033\n",
      "    1037\n",
      "    1038\n",
      "    1042\n",
      "    1047\n"
     ]
    }
   ],
   "source": [
    "#investigate the priorities of the targets used in the design file\n",
    "print(\"unique targ priorities: \",np.unique(data1['priority'][assigned_other]))"
   ]
  },
  {
   "cell_type": "code",
   "execution_count": 7,
   "metadata": {},
   "outputs": [
    {
     "data": {
      "text/html": [
       "&lt;Column name=&apos;priority&apos; dtype=&apos;int32&apos; length=21&gt;\n",
       "<table>\n",
       "<tr><td>1037</td></tr>\n",
       "<tr><td>1032</td></tr>\n",
       "<tr><td>1022</td></tr>\n",
       "<tr><td>1027</td></tr>\n",
       "<tr><td>1037</td></tr>\n",
       "<tr><td>1037</td></tr>\n",
       "<tr><td>1037</td></tr>\n",
       "<tr><td>1037</td></tr>\n",
       "<tr><td>1032</td></tr>\n",
       "<tr><td>1042</td></tr>\n",
       "<tr><td>1042</td></tr>\n",
       "<tr><td>1042</td></tr>\n",
       "<tr><td>1042</td></tr>\n",
       "<tr><td>1032</td></tr>\n",
       "<tr><td>1047</td></tr>\n",
       "<tr><td>1047</td></tr>\n",
       "<tr><td>1047</td></tr>\n",
       "<tr><td>1047</td></tr>\n",
       "<tr><td>1013</td></tr>\n",
       "<tr><td>1033</td></tr>\n",
       "<tr><td>1038</td></tr>\n",
       "</table>"
      ],
      "text/plain": [
       "<Column name='priority' dtype='int32' length=21>\n",
       "1037\n",
       "1032\n",
       "1022\n",
       "1027\n",
       "1037\n",
       "1037\n",
       "1037\n",
       "1037\n",
       "1032\n",
       "1042\n",
       "1042\n",
       "1042\n",
       "1042\n",
       "1032\n",
       "1047\n",
       "1047\n",
       "1047\n",
       "1047\n",
       "1013\n",
       "1033\n",
       "1038"
      ]
     },
     "execution_count": 7,
     "metadata": {},
     "output_type": "execute_result"
    }
   ],
   "source": [
    "threshold_mask = ((data1['carton'][assigned_SCIENCEfibers] == 'bhm_rm_known_spec') | (data1[\"priority\"][assigned_SCIENCEfibers] <= 950.))\n",
    "data1['priority'][assigned_SCIENCEfibers][~threshold_mask]"
   ]
  },
  {
   "cell_type": "code",
   "execution_count": 8,
   "metadata": {},
   "outputs": [
    {
     "data": {
      "text/html": [
       "&lt;Column name=&apos;priority&apos; dtype=&apos;int32&apos; length=335&gt;\n",
       "<table>\n",
       "<tr><td>901</td></tr>\n",
       "<tr><td>901</td></tr>\n",
       "<tr><td>901</td></tr>\n",
       "<tr><td>901</td></tr>\n",
       "<tr><td>901</td></tr>\n",
       "<tr><td>901</td></tr>\n",
       "<tr><td>901</td></tr>\n",
       "<tr><td>941</td></tr>\n",
       "<tr><td>941</td></tr>\n",
       "<tr><td>901</td></tr>\n",
       "<tr><td>901</td></tr>\n",
       "<tr><td>901</td></tr>\n",
       "<tr><td>...</td></tr>\n",
       "<tr><td>946</td></tr>\n",
       "<tr><td>946</td></tr>\n",
       "<tr><td>946</td></tr>\n",
       "<tr><td>946</td></tr>\n",
       "<tr><td>1046</td></tr>\n",
       "<tr><td>1046</td></tr>\n",
       "<tr><td>1046</td></tr>\n",
       "<tr><td>946</td></tr>\n",
       "<tr><td>946</td></tr>\n",
       "<tr><td>946</td></tr>\n",
       "<tr><td>1046</td></tr>\n",
       "<tr><td>946</td></tr>\n",
       "</table>"
      ],
      "text/plain": [
       "<Column name='priority' dtype='int32' length=335>\n",
       " 901\n",
       " 901\n",
       " 901\n",
       " 901\n",
       " 901\n",
       " 901\n",
       " 901\n",
       " 941\n",
       " 941\n",
       " 901\n",
       " 901\n",
       " 901\n",
       " ...\n",
       " 946\n",
       " 946\n",
       " 946\n",
       " 946\n",
       "1046\n",
       "1046\n",
       "1046\n",
       " 946\n",
       " 946\n",
       " 946\n",
       "1046\n",
       " 946"
      ]
     },
     "execution_count": 8,
     "metadata": {},
     "output_type": "execute_result"
    }
   ],
   "source": [
    "data1['priority'][assigned_known]"
   ]
  },
  {
   "cell_type": "code",
   "execution_count": 26,
   "metadata": {},
   "outputs": [
    {
     "name": "stdout",
     "output_type": "stream",
     "text": [
      "catid     carton     priority   \n",
      "27021597934479233 bhm_rm_core 1037\n",
      "[2037.]\n",
      "27021597934351923 bhm_rm_core 1032\n",
      "[2032. 2034. 2033.]\n",
      "27021597934348961 bhm_rm_core 1022\n",
      "[2022. 2024. 2023.]\n",
      "27021597934488396 bhm_rm_core 937\n",
      "[937. 901.]\n",
      "27021597934351812 bhm_rm_core 1027\n",
      "[2027. 2029.]\n",
      "27021597934488373 bhm_rm_core 932\n",
      "[932.]\n",
      "27021597934473444 bhm_rm_core 1037\n",
      "[2037.]\n",
      "27021597934484210 bhm_rm_core 927\n",
      "[927. 929. 901. 928.]\n",
      "27021599969790635 bhm_rm_core 1037\n",
      "[2037.]\n",
      "27021597934480664 bhm_rm_core 1037\n",
      "[2037.]\n",
      "27021600519015701 bhm_rm_core 1037\n",
      "[2037.]\n",
      "27021600520974671 bhm_rm_core 1032\n",
      "[2032.]\n",
      "27021600574820405 bhm_rm_core 1042\n",
      "[2042.]\n",
      "27021599945939921 bhm_rm_core 1042\n",
      "[2042.]\n",
      "27021599957344335 bhm_rm_core 942\n",
      "[942.]\n",
      "27021599989451369 bhm_rm_core 1042\n",
      "[2042.]\n",
      "27021600490293504 bhm_rm_core 1042\n",
      "[2042.]\n",
      "27021599974248180 bhm_rm_core 1032\n",
      "[2032.]\n",
      "27021599947849846 bhm_rm_core 947\n",
      "[947.]\n",
      "27021600518004694 bhm_rm_core 1047\n",
      "[2047.]\n",
      "27021599949556313 bhm_rm_core 947\n",
      "[947.]\n",
      "27021599997441342 bhm_rm_core 1047\n",
      "[2047.]\n",
      "27021599997447648 bhm_rm_core 947\n",
      "[947.]\n",
      "27021599945948364 bhm_rm_core 1047\n",
      "[2047.]\n",
      "27021599943816756 bhm_rm_core 1047\n",
      "[2047.]\n",
      "27021597934352807 bhm_rm_var 1013\n",
      "[2013.]\n",
      "27021597934352694 bhm_rm_var 1033\n",
      "[2033.]\n",
      "27021597934485012 bhm_rm_var 938\n",
      "[938.]\n",
      "27021597934478900 bhm_rm_var 1038\n",
      "[2038.]\n"
     ]
    }
   ],
   "source": [
    "#iterate through catIDs and reset priorities of those targets \n",
    "#try resetting to like 900, if that doesn't work, then just the lowest value in that carton\n",
    "#currently resetting every value for that target, not just the carton used in the design\n",
    "##NEW THRESHOLD:\n",
    "\n",
    "\n",
    "#NEEDS HIGHER PRIORITY, COUNTERINTUITIVE\n",
    "print(\"catid     carton     priority   \")\n",
    "for i in range(len(data1[\"catalogid\"][assigned_other])):\n",
    "    print(data1[\"catalogid\"][assigned_other][i], data1[\"carton\"][assigned_other][i], data1[\"priority\"][assigned_other][i])\n",
    "    #IMPLEMENT TIERED REASSIGNMENT BASED ON CARTON, CORE > VAR > ANCILLARY, remember counterintutiveness\n",
    "    priority[np.where((catalogid == data1[\"catalogid\"][assigned_other][i]) & (data1[\"priority\"][assigned_other][i] >= 950.))] += 1000.\n",
    "    print(priority[np.where((catalogid == data1[\"catalogid\"][assigned_other][i]))])#&(carton == data1[\"carton\"][assigned_other][i]))])"
   ]
  },
  {
   "cell_type": "code",
   "execution_count": null,
   "metadata": {},
   "outputs": [],
   "source": [
    "len(data1[\"catalogid\"][assigned_other])"
   ]
  },
  {
   "cell_type": "code",
   "execution_count": 10,
   "metadata": {},
   "outputs": [],
   "source": [
    "# # #generate new design with these priorities, copy from script?\n",
    "# # #or just save a new carton fits file?\n",
    "# # #let's try saving a new carton fits?\n",
    "# from astropy.table import Table, Column\n",
    "# tab = Table()\n",
    "# tab.add_column(Column(name=\"catalogid\", data=catalogid, dtype='int64'))\n",
    "# tab.add_column(Column(name=\"ra\", data=ra, dtype='float32'))\n",
    "# tab.add_column(Column(name=\"dec\", data=dec, dtype='float32'))\n",
    "# tab.add_column(Column(name=\"target_pk\", data=target_pk, dtype='int64'))\n",
    "# tab.add_column(Column(name=\"priority\", data=priority, dtype='float32'))\n",
    "# tab.add_column(Column(name=\"value\", data=value, dtype='float32'))\n",
    "# tab.add_column(Column(name=\"carton\", data=carton))\n",
    "# tab.add_column(Column(name=\"instrument\", data=instrument, dtype='<U10'))\n",
    "# tab.add_column(Column(name=\"carton_to_target_pk\", data=carton_to_target_pk, dtype='int64'))\n",
    "# tab.add_column(Column(name=\"g\", data=g, dtype='float32'))\n",
    "# tab.add_column(Column(name=\"r\", data=r, dtype='float32'))\n",
    "# tab.add_column(Column(name=\"i\", data=i, dtype='float32'))\n",
    "# tab.add_column(Column(name=\"bp\", data=bp, dtype='float32'))\n",
    "# tab.add_column(Column(name=\"gaia_g\", data=gaia_g, dtype='float32'))\n",
    "# tab.add_column(Column(name=\"rp\", data=rp, dtype='float32'))\n",
    "# tab.add_column(Column(name=\"h\", data=h, dtype='float32'))\n",
    "\n",
    "\n",
    "\n",
    "# tab.write(\"BHM_XMMLSS_v0.5_DEPRIORITY1.fits\", format='fits', overwrite=True)\n"
   ]
  },
  {
   "cell_type": "code",
   "execution_count": 4,
   "metadata": {},
   "outputs": [
    {
     "name": "stdout",
     "output_type": "stream",
     "text": [
      "------- XMM-LSS Design 2 --------\n",
      "calib:  119\n",
      "science:  362\n",
      "total assignments: 481/500\n",
      "\n",
      "science breakdown\n",
      "known QSOs:  345\n",
      "candidate QSOs:  17\n"
     ]
    }
   ],
   "source": [
    "#check targets, compare\n",
    "#import the deprioritized design\n",
    "dep_file= \"./XMMLSS_design2.fits\"\n",
    "data_deprior2 = Table.read(dep_file, hdu = 2, format='fits')\n",
    "data_deprior1 = Table.read(dep_file, hdu = 1, format='fits')\n",
    "\n",
    "Dassigned_other = ((data_deprior2['assigned'] == 1) & (data_deprior1['category'] == 'science') & (data_deprior1['carton'] != 'bhm_rm_known_spec'))\n",
    "Dassigned_SCIENCEfibers = ((data_deprior2['assigned'] == 1) & (data_deprior1['category'] == 'science'))\n",
    "Dassigned_CALIBfibers = ((data_deprior2['assigned'] == 1) & ((data_deprior1['category'] == 'sky_boss') | (data_deprior1['category'] == 'standard_boss')))\n",
    "\n",
    "Dassigned_known = ((data_deprior2['assigned'] == 1) & (data_deprior1['carton'] == 'bhm_rm_known_spec'))\n",
    "Dassigned_core = ((data_deprior2['assigned'] == 1) & (data_deprior1['carton'] == 'bhm_rm_core'))\n",
    "Dassigned_var = ((data_deprior2['assigned'] == 1) & (data_deprior1['carton'] == 'bhm_rm_var'))\n",
    "Dassigned_ancil = ((data_deprior2['assigned'] == 1) & (data_deprior1['carton'] == 'bhm_rm_ancillary'))\n",
    "Dthreshold_mask = ((data_deprior1['carton'][Dassigned_SCIENCEfibers] == 'bhm_rm_known_spec') | (data_deprior1[\"priority\"][Dassigned_SCIENCEfibers] <= 950.))\n",
    "\n",
    "print(\"------- XMM-LSS Design 2 --------\")\n",
    "print(\"calib: \", len(data_deprior1[Dassigned_CALIBfibers]))\n",
    "print(\"science: \", len(data_deprior1[Dassigned_SCIENCEfibers]))\n",
    "print(\"total assignments: {}/500\".format(len(data_deprior1[Dassigned_CALIBfibers]) + len(data_deprior1[Dassigned_SCIENCEfibers])))\n",
    "assert len(data_deprior1[Dassigned_other]) == (len(data_deprior1[Dassigned_SCIENCEfibers]) - len(data_deprior1[Dassigned_known])), \"not equal!\"\n",
    "print(\"\")\n",
    "print(\"science breakdown\")\n",
    "# print(\"known spec: \", len(data_deprior1[Dassigned_known]))\n",
    "# print(\"other (var+core+ancil): \",len(data_deprior1[Dassigned_other]))\n",
    "# print(\"var: \", len(data_deprior1[Dassigned_var]))\n",
    "# print(\"core: \", len(data_deprior1[Dassigned_core]))\n",
    "# print(\"ancil: \", len(data_deprior1[Dassigned_ancil]))\n",
    "print(\"known QSOs: \", len(data_deprior1['priority'][Dassigned_SCIENCEfibers][Dthreshold_mask]))\n",
    "print(\"candidate QSOs: \", len(data_deprior1['priority'][Dassigned_SCIENCEfibers][~Dthreshold_mask]))"
   ]
  },
  {
   "cell_type": "code",
   "execution_count": 21,
   "metadata": {},
   "outputs": [
    {
     "data": {
      "text/plain": [
       "15"
      ]
     },
     "execution_count": 21,
     "metadata": {},
     "output_type": "execute_result"
    }
   ],
   "source": [
    "#other target (not known spec) overlap between the two designs\n",
    "targ_overlap = np.array(list(set(data1[\"catalogid\"][assigned_other]) & set(data_deprior1['catalogid'][Dassigned_other])))\n",
    "len(targ_overlap)"
   ]
  },
  {
   "cell_type": "code",
   "execution_count": 22,
   "metadata": {},
   "outputs": [
    {
     "data": {
      "text/plain": [
       "335"
      ]
     },
     "execution_count": 22,
     "metadata": {},
     "output_type": "execute_result"
    }
   ],
   "source": [
    "targ_overlap = np.array(list(set(data1[\"catalogid\"][assigned_known]) & set(data_deprior1['catalogid'][Dassigned_known])))\n",
    "len(targ_overlap)\n",
    "#len(data1[\"catalogid\"][assigned_known])"
   ]
  },
  {
   "cell_type": "code",
   "execution_count": 28,
   "metadata": {},
   "outputs": [
    {
     "name": "stdout",
     "output_type": "stream",
     "text": [
      "catid     carton     priority   \n",
      "27021597934488396 bhm_rm_core 937\n",
      "[937. 901.]\n",
      "27021597934351875 bhm_rm_core 1037\n",
      "[2037. 2039. 2038.]\n",
      "27021597934488373 bhm_rm_core 932\n",
      "[932.]\n",
      "27021597934473444 bhm_rm_core 2037\n",
      "[3037.]\n",
      "27021597934484210 bhm_rm_core 927\n",
      "[927. 929. 901. 928.]\n",
      "27021597934480664 bhm_rm_core 2037\n",
      "[3037.]\n",
      "27021599969790826 bhm_rm_core 1042\n",
      "[2042.]\n",
      "27021599957344335 bhm_rm_core 942\n",
      "[942.]\n",
      "27021599989451369 bhm_rm_core 2042\n",
      "[3042.]\n",
      "27021600490293504 bhm_rm_core 2042\n",
      "[3042.]\n",
      "27021600489286720 bhm_rm_core 1042\n",
      "[2042.]\n",
      "27021599947849846 bhm_rm_core 947\n",
      "[947.]\n",
      "27021599978923816 bhm_rm_core 1047\n",
      "[2047.]\n",
      "27021600518004694 bhm_rm_core 2047\n",
      "[3047.]\n",
      "27021599997441740 bhm_rm_core 1047\n",
      "[2047.]\n",
      "27021600490294228 bhm_rm_core 1047\n",
      "[2047.]\n",
      "27021599949556313 bhm_rm_core 947\n",
      "[947.]\n",
      "27021599978934484 bhm_rm_core 1047\n",
      "[2047.]\n",
      "27021599997447648 bhm_rm_core 947\n",
      "[947.]\n",
      "27021600518011802 bhm_rm_core 1047\n",
      "[2047.]\n",
      "27021599945948364 bhm_rm_core 2047\n",
      "[3047.]\n",
      "27021597934485012 bhm_rm_var 938\n",
      "[938.]\n",
      "27021597934478900 bhm_rm_var 2038\n",
      "[3038.]\n",
      "27021597934479022 bhm_rm_var 1038\n",
      "[2038.]\n",
      "27021597934353375 bhm_rm_var 1038\n",
      "[2038.]\n"
     ]
    }
   ],
   "source": [
    "#Round two of deprioritization\n",
    "print(\"catid     carton     priority   \")\n",
    "for i in range(len(data_deprior1[\"catalogid\"][Dassigned_other])):\n",
    "    print(data_deprior1[\"catalogid\"][Dassigned_other][i], data_deprior1[\"carton\"][Dassigned_other][i], data_deprior1[\"priority\"][Dassigned_other][i])\n",
    "    priority[np.where((catalogid == data_deprior1[\"catalogid\"][Dassigned_other][i]) & (data_deprior1[\"priority\"][Dassigned_other][i] >= 950.))] += 1000.\n",
    "    print(priority[np.where((catalogid == data_deprior1[\"catalogid\"][Dassigned_other][i]))])"
   ]
  },
  {
   "cell_type": "code",
   "execution_count": 29,
   "metadata": {},
   "outputs": [],
   "source": [
    "# from astropy.table import Table, Column\n",
    "# tab = Table()\n",
    "# tab.add_column(Column(name=\"catalogid\", data=catalogid, dtype='int64'))\n",
    "# tab.add_column(Column(name=\"ra\", data=ra, dtype='float32'))\n",
    "# tab.add_column(Column(name=\"dec\", data=dec, dtype='float32'))\n",
    "# tab.add_column(Column(name=\"target_pk\", data=target_pk, dtype='int64'))\n",
    "# tab.add_column(Column(name=\"priority\", data=priority, dtype='float32'))\n",
    "# tab.add_column(Column(name=\"value\", data=value, dtype='float32'))\n",
    "# tab.add_column(Column(name=\"carton\", data=carton))\n",
    "# tab.add_column(Column(name=\"instrument\", data=instrument, dtype='<U10'))\n",
    "# tab.add_column(Column(name=\"carton_to_target_pk\", data=carton_to_target_pk, dtype='int64'))\n",
    "# tab.add_column(Column(name=\"g\", data=g, dtype='float32'))\n",
    "# tab.add_column(Column(name=\"r\", data=r, dtype='float32'))\n",
    "# tab.add_column(Column(name=\"i\", data=i, dtype='float32'))\n",
    "# tab.add_column(Column(name=\"bp\", data=bp, dtype='float32'))\n",
    "# tab.add_column(Column(name=\"gaia_g\", data=gaia_g, dtype='float32'))\n",
    "# tab.add_column(Column(name=\"rp\", data=rp, dtype='float32'))\n",
    "# tab.add_column(Column(name=\"h\", data=h, dtype='float32'))\n",
    "\n",
    "\n",
    "\n",
    "# tab.write(\"BHM_XMMLSS_v0.5_DEPRIORITY2.fits\", format='fits', overwrite=True)"
   ]
  },
  {
   "cell_type": "code",
   "execution_count": 5,
   "metadata": {},
   "outputs": [
    {
     "name": "stdout",
     "output_type": "stream",
     "text": [
      "------- XMM-LSS Design 3 --------\n",
      "calib:  119\n",
      "science:  363\n",
      "total assignments: 482/500\n",
      "\n",
      "science breakdown\n",
      "known QSOs:  346\n",
      "candidate QSOs:  17\n"
     ]
    }
   ],
   "source": [
    "#check targets, compare\n",
    "#import the deprioritized design\n",
    "dep_file= \"./XMMLSS_design3.fits\"\n",
    "data_deprior22 = Table.read(dep_file, hdu = 2, format='fits')\n",
    "data_deprior12 = Table.read(dep_file, hdu = 1, format='fits')\n",
    "\n",
    "Dassigned_other2 = ((data_deprior22['assigned'] == 1) & (data_deprior12['category'] == 'science') & (data_deprior12['carton'] != 'bhm_rm_known_spec'))\n",
    "Dassigned_SCIENCEfibers2 = ((data_deprior22['assigned'] == 1) & (data_deprior12['category'] == 'science'))\n",
    "Dassigned_CALIBfibers2 = ((data_deprior22['assigned'] == 1) & ((data_deprior12['category'] == 'sky_boss') | (data_deprior12['category'] == 'standard_boss')))\n",
    "Dassigned_known2 = ((data_deprior22['assigned'] == 1) & (data_deprior12['carton'] == 'bhm_rm_known_spec'))\n",
    "Dassigned_core2 = ((data_deprior22['assigned'] == 1) & (data_deprior12['carton'] == 'bhm_rm_core'))\n",
    "Dassigned_var2 = ((data_deprior22['assigned'] == 1) & (data_deprior12['carton'] == 'bhm_rm_var'))\n",
    "Dassigned_ancil2 = ((data_deprior22['assigned'] == 1) & (data_deprior12['carton'] == 'bhm_rm_ancillary'))\n",
    "Dthreshold_mask2 = ((data_deprior12['carton'][Dassigned_SCIENCEfibers2] == 'bhm_rm_known_spec') | (data_deprior12[\"priority\"][Dassigned_SCIENCEfibers2] <= 950.))\n",
    "\n",
    "\n",
    "print(\"------- XMM-LSS Design 3 --------\")\n",
    "print(\"calib: \", len(data_deprior12[Dassigned_CALIBfibers2]))\n",
    "print(\"science: \", len(data_deprior12[Dassigned_SCIENCEfibers2]))\n",
    "print(\"total assignments: {}/500\".format( len(data_deprior12[Dassigned_CALIBfibers2]) + len(data_deprior12[Dassigned_SCIENCEfibers2])))\n",
    "\n",
    "\n",
    "assert len(data_deprior12[Dassigned_other2]) == (len(data_deprior12[Dassigned_SCIENCEfibers2]) - len(data_deprior12[Dassigned_known2])), \"not equal!\"\n",
    "print(\"\")\n",
    "print(\"science breakdown\")\n",
    "# print(\"known spec: \", len(data_deprior12[Dassigned_known2]))\n",
    "# print(\"other (var+core+ancil): \",len(data_deprior12[Dassigned_other2]))\n",
    "# print(\"var: \", len(data_deprior12[Dassigned_var2]))\n",
    "# print(\"core: \", len(data_deprior12[Dassigned_core2]))\n",
    "# print(\"ancil: \", len(data_deprior12[Dassigned_ancil2]))\n",
    "print(\"known QSOs: \", len(data_deprior12['priority'][Dassigned_SCIENCEfibers2][Dthreshold_mask2]))\n",
    "print(\"candidate QSOs: \", len(data_deprior12['priority'][Dassigned_SCIENCEfibers2][~Dthreshold_mask2]))"
   ]
  },
  {
   "cell_type": "code",
   "execution_count": 31,
   "metadata": {},
   "outputs": [
    {
     "data": {
      "text/plain": [
       "335"
      ]
     },
     "execution_count": 31,
     "metadata": {},
     "output_type": "execute_result"
    }
   ],
   "source": [
    "kstarg_overlap = np.array(list(set(data_deprior12['catalogid'][Dassigned_known2]) & set(data1['catalogid'][assigned_known]) & set(data_deprior1['catalogid'][Dassigned_known])))\n",
    "len(kstarg_overlap)"
   ]
  },
  {
   "cell_type": "code",
   "execution_count": 32,
   "metadata": {},
   "outputs": [
    {
     "name": "stdout",
     "output_type": "stream",
     "text": [
      "XMM-LSS common non-known_spec targets across:\n",
      "      all three designs:  15\n",
      "                1 and 2:  15\n",
      "                2 and 3:  15\n",
      "                1 and 3:  21\n",
      "\n",
      "XMM-LSS common known_spec across:\n",
      "      all three designs:  335\n",
      "                1 and 2:  335\n",
      "                2 and 3:  337\n",
      "                1 and 3:  335\n"
     ]
    }
   ],
   "source": [
    "#other target (not known spec) overlap between the two designs\n",
    "total_targ_overlap = np.array(list(set(data_deprior12['catalogid'][Dassigned_other2]) & set(data_deprior1['catalogid'][Dassigned_other]) & set(data1['catalogid'][assigned_other])))\n",
    "targ_overlap_12 = np.array(list(set(data_deprior1['catalogid'][Dassigned_other]) & set(data1['catalogid'][assigned_other])))\n",
    "targ_overlap_23 = np.array(list(set(data_deprior12['catalogid'][Dassigned_other2]) & set(data_deprior1['catalogid'][Dassigned_other])))\n",
    "targ_overlap_13 = np.array(list(set(data_deprior12['catalogid'][Dassigned_other2]) &  set(data1['catalogid'][assigned_other])))\n",
    "kstarg_overlap = np.array(list(set(data_deprior12['catalogid'][Dassigned_known2]) & set(data1['catalogid'][assigned_known]) & set(data_deprior1['catalogid'][Dassigned_known])))\n",
    "kstarg_overlap_12 = np.array(list(set(data_deprior1['catalogid'][Dassigned_known]) & set(data1['catalogid'][assigned_known])))\n",
    "kstarg_overlap_23 = np.array(list(set(data_deprior12['catalogid'][Dassigned_known2]) & set(data_deprior1['catalogid'][Dassigned_known])))\n",
    "kstarg_overlap_13 = np.array(list(set(data_deprior12['catalogid'][Dassigned_known2]) &  set(data1['catalogid'][assigned_known])))\n",
    "\n",
    "\n",
    "\n",
    "print(\"XMM-LSS common candidate targets across:\")\n",
    "print(\"      all three designs: \",len(total_targ_overlap))\n",
    "print(\"                1 and 2: \",len(targ_overlap_12))\n",
    "print(\"                2 and 3: \", len(targ_overlap_23))\n",
    "print(\"                1 and 3: \", len(targ_overlap_13))\n",
    "print(\"\")\n",
    "print(\"XMM-LSS common known QSOs across:\")\n",
    "print(\"      all three designs: \", len(kstarg_overlap))\n",
    "print(\"                1 and 2: \",len(kstarg_overlap_12))\n",
    "print(\"                2 and 3: \", len(kstarg_overlap_23))\n",
    "print(\"                1 and 3: \", len(kstarg_overlap_13))"
   ]
  },
  {
   "cell_type": "code",
   "execution_count": 6,
   "metadata": {},
   "outputs": [
    {
     "name": "stdout",
     "output_type": "stream",
     "text": [
      "XMM-LSS common candidate QSOs targets across:\n",
      "      all three designs:  7\n",
      "                1 and 2:  7\n",
      "                2 and 3:  7\n",
      "                1 and 3:  13\n",
      "\n",
      "XMM-LSS common known QSOs across:\n",
      "      all three designs:  343\n",
      "                1 and 2:  343\n",
      "                2 and 3:  345\n",
      "                1 and 3:  343\n"
     ]
    }
   ],
   "source": [
    "##NEW FORMAT\n",
    "\n",
    "#other target (not known spec) overlap between the two designs\n",
    "total_targ_overlap = np.array(list(set(data_deprior12['catalogid'][Dassigned_SCIENCEfibers2][~Dthreshold_mask2]) & set(data_deprior1['catalogid'][Dassigned_SCIENCEfibers][~Dthreshold_mask]) & set(data1['catalogid'][assigned_SCIENCEfibers][~threshold_mask])))\n",
    "targ_overlap_12 = np.array(list(set(data_deprior1['catalogid'][Dassigned_SCIENCEfibers][~Dthreshold_mask]) & set(data1['catalogid'][assigned_SCIENCEfibers][~threshold_mask])))\n",
    "targ_overlap_23 = np.array(list(set(data_deprior12['catalogid'][Dassigned_SCIENCEfibers2][~Dthreshold_mask2]) & set(data_deprior1['catalogid'][Dassigned_SCIENCEfibers][~Dthreshold_mask])))\n",
    "targ_overlap_13 = np.array(list(set(data_deprior12['catalogid'][Dassigned_SCIENCEfibers2][~Dthreshold_mask2]) &  set(data1['catalogid'][assigned_SCIENCEfibers][~threshold_mask])))\n",
    "\n",
    "kstarg_overlap = np.array(list(set(data_deprior12['catalogid'][Dassigned_SCIENCEfibers2][Dthreshold_mask2]) & set(data_deprior1['catalogid'][Dassigned_SCIENCEfibers][Dthreshold_mask]) & set(data1['catalogid'][assigned_SCIENCEfibers][threshold_mask])))\n",
    "kstarg_overlap_12 = np.array(list(set(data_deprior1['catalogid'][Dassigned_SCIENCEfibers][Dthreshold_mask]) & set(data1['catalogid'][assigned_SCIENCEfibers][threshold_mask])))\n",
    "kstarg_overlap_23 = np.array(list(set(data_deprior12['catalogid'][Dassigned_SCIENCEfibers2][Dthreshold_mask2]) & set(data_deprior1['catalogid'][Dassigned_SCIENCEfibers][Dthreshold_mask])))\n",
    "kstarg_overlap_13 = np.array(list(set(data_deprior12['catalogid'][Dassigned_SCIENCEfibers2][Dthreshold_mask2]) &  set(data1['catalogid'][assigned_SCIENCEfibers][threshold_mask])))\n",
    "\n",
    "\n",
    "\n",
    "print(\"XMM-LSS common candidate QSOs targets across:\")\n",
    "print(\"      all three designs: \",len(total_targ_overlap))\n",
    "print(\"                1 and 2: \",len(targ_overlap_12))\n",
    "print(\"                2 and 3: \", len(targ_overlap_23))\n",
    "print(\"                1 and 3: \", len(targ_overlap_13))\n",
    "print(\"\")\n",
    "print(\"XMM-LSS common known QSOs across:\")\n",
    "print(\"      all three designs: \", len(kstarg_overlap))\n",
    "print(\"                1 and 2: \",len(kstarg_overlap_12))\n",
    "print(\"                2 and 3: \", len(kstarg_overlap_23))\n",
    "print(\"                1 and 3: \", len(kstarg_overlap_13))"
   ]
  },
  {
   "cell_type": "code",
   "execution_count": null,
   "metadata": {},
   "outputs": [],
   "source": []
  }
 ],
 "metadata": {
  "kernelspec": {
   "display_name": "Python 3",
   "language": "python",
   "name": "python3"
  },
  "language_info": {
   "codemirror_mode": {
    "name": "ipython",
    "version": 3
   },
   "file_extension": ".py",
   "mimetype": "text/x-python",
   "name": "python",
   "nbconvert_exporter": "python",
   "pygments_lexer": "ipython3",
   "version": "3.8.5"
  }
 },
 "nbformat": 4,
 "nbformat_minor": 4
}
